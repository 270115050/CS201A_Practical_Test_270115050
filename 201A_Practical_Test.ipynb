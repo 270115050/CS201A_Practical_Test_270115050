{
  "nbformat": 4,
  "nbformat_minor": 0,
  "metadata": {
    "colab": {
      "name": "201A-Practical Test ",
      "provenance": [],
      "collapsed_sections": []
    },
    "kernelspec": {
      "name": "python3",
      "display_name": "Python 3"
    },
    "language_info": {
      "name": "python"
    }
  },
  "cells": [
    {
      "cell_type": "markdown",
      "source": [
        "#CS201A\n",
        "Foundations of Data Science\n",
        "\n",
        "Practical\n",
        "\n"
      ],
      "metadata": {
        "id": "s7Zm1Qeaxxxt"
      }
    },
    {
      "cell_type": "markdown",
      "source": [
        "##Task 1: Data visualisation and pre-processing"
      ],
      "metadata": {
        "id": "ljeq06ZgyOAO"
      }
    },
    {
      "cell_type": "markdown",
      "source": [
        "Housing is a central part of the New Zealand economy and accounts for around half of the assets of New\n",
        "Zealand households. Data is available from 1979.\n",
        "The value of housing stock includes all private sector residential dwellings (detached houses, flats and\n",
        "apartments), lifestyle blocks (with a dwelling), detached houses converted to flats and ‘home and income'\n",
        "properties. It does not include vacant land. This is an estimate of the current market value of houses in New\n",
        "Zealand and is based on current house prices. The data is compiled by CoreLogic and published by the Reserve\n",
        "Bank. Data from 1979 is available in the key graph data file."
      ],
      "metadata": {
        "id": "3Rz7hlU9ybAj"
      }
    },
    {
      "cell_type": "markdown",
      "source": [
        "##How many records are official QV data?"
      ],
      "metadata": {
        "id": "sWgWFFP6X1t_"
      }
    },
    {
      "cell_type": "markdown",
      "source": [
        "There are total of official QV data is 81"
      ],
      "metadata": {
        "id": "Oe_CllhPf34x"
      }
    },
    {
      "cell_type": "markdown",
      "source": [
        "###How many records are RBNZ estimate?"
      ],
      "metadata": {
        "id": "nVxAtsujypYW"
      }
    },
    {
      "cell_type": "markdown",
      "source": [
        "There are total of 88 records in RBNZ estimate"
      ],
      "metadata": {
        "id": "I0-PAL0Kf-jP"
      }
    },
    {
      "cell_type": "markdown",
      "source": [
        "###Read the CSV file as a Pandas data frame"
      ],
      "metadata": {
        "id": "My_lSRsPyuP_"
      }
    },
    {
      "cell_type": "code",
      "source": [
        "import numpy as np\n",
        "import pandas as pd\n",
        "\n",
        "df = pd.read_excel(\"graphdata.xlsx\", sheet_name =\"HOUSING\")"
      ],
      "metadata": {
        "id": "4J1jLz3OyxYd"
      },
      "execution_count": null,
      "outputs": []
    },
    {
      "cell_type": "markdown",
      "source": [
        "I am formatting the data here to make it easier to read. I converted the graphdata.xlsx to 'csv' and added some parameter of which rows and columns I want to display. I added a header for the date and some slight formatting of the other headers"
      ],
      "metadata": {
        "id": "O7889_9zYEK9"
      }
    },
    {
      "cell_type": "code",
      "source": [
        "df.to_csv(\"HOUSING\")"
      ],
      "metadata": {
        "id": "Vu-pim7RariL"
      },
      "execution_count": null,
      "outputs": []
    },
    {
      "cell_type": "code",
      "source": [
        "housing = pd.read_csv('HOUSING', header = 5, usecols = (2,3,4,5), skiprows=[175,176,177,178,179])"
      ],
      "metadata": {
        "id": "wUIvFVLKa4dy"
      },
      "execution_count": null,
      "outputs": []
    },
    {
      "cell_type": "code",
      "source": [
        "housing.columns = ['Date','Value of Housing $Billion','House Prices - RBNZ Linked all Residential HPI Series A%','HPI for Houses, Index']\n",
        "housing['Date'] = pd.to_datetime(housing['Date'])"
      ],
      "metadata": {
        "id": "kyhXEfv0c0w6"
      },
      "execution_count": null,
      "outputs": []
    },
    {
      "cell_type": "code",
      "source": [
        "housing"
      ],
      "metadata": {
        "colab": {
          "base_uri": "https://localhost:8080/",
          "height": 655
        },
        "id": "ZV3d2jSea9hT",
        "outputId": "e62ce5a6-e7b2-4add-cc51-1351b413d529"
      },
      "execution_count": null,
      "outputs": [
        {
          "output_type": "execute_result",
          "data": {
            "text/plain": [
              "          Date  Value of Housing $Billion  \\\n",
              "0   1979-12-01                       25.0   \n",
              "1   1980-03-01                       25.0   \n",
              "2   1980-06-01                       26.0   \n",
              "3   1980-09-01                       27.0   \n",
              "4   1980-12-01                       28.0   \n",
              "..         ...                        ...   \n",
              "164 2020-12-01                     1385.7   \n",
              "165 2021-03-01                     1513.0   \n",
              "166 2021-06-01                     1591.5   \n",
              "167 2021-09-01                     1663.1   \n",
              "168 2021-12-01                     1763.1   \n",
              "\n",
              "     House Prices - RBNZ Linked all Residential HPI Series A%  \\\n",
              "0                                                  NaN          \n",
              "1                                                  NaN          \n",
              "2                                                  NaN          \n",
              "3                                                  NaN          \n",
              "4                                                  NaN          \n",
              "..                                                 ...          \n",
              "164                                               16.1          \n",
              "165                                               22.7          \n",
              "166                                               28.5          \n",
              "167                                               28.7          \n",
              "168                                               25.2          \n",
              "\n",
              "     HPI for Houses, Index  \n",
              "0                      NaN  \n",
              "1                      NaN  \n",
              "2                      NaN  \n",
              "3                      NaN  \n",
              "4                      NaN  \n",
              "..                     ...  \n",
              "164                 3080.9  \n",
              "165                 3379.1  \n",
              "166                 3495.0  \n",
              "167                 3704.3  \n",
              "168                 3893.5  \n",
              "\n",
              "[169 rows x 4 columns]"
            ],
            "text/html": [
              "\n",
              "  <div id=\"df-ebe65d70-6775-429d-999f-8a820a236106\">\n",
              "    <div class=\"colab-df-container\">\n",
              "      <div>\n",
              "<style scoped>\n",
              "    .dataframe tbody tr th:only-of-type {\n",
              "        vertical-align: middle;\n",
              "    }\n",
              "\n",
              "    .dataframe tbody tr th {\n",
              "        vertical-align: top;\n",
              "    }\n",
              "\n",
              "    .dataframe thead th {\n",
              "        text-align: right;\n",
              "    }\n",
              "</style>\n",
              "<table border=\"1\" class=\"dataframe\">\n",
              "  <thead>\n",
              "    <tr style=\"text-align: right;\">\n",
              "      <th></th>\n",
              "      <th>Date</th>\n",
              "      <th>Value of Housing $Billion</th>\n",
              "      <th>House Prices - RBNZ Linked all Residential HPI Series A%</th>\n",
              "      <th>HPI for Houses, Index</th>\n",
              "    </tr>\n",
              "  </thead>\n",
              "  <tbody>\n",
              "    <tr>\n",
              "      <th>0</th>\n",
              "      <td>1979-12-01</td>\n",
              "      <td>25.0</td>\n",
              "      <td>NaN</td>\n",
              "      <td>NaN</td>\n",
              "    </tr>\n",
              "    <tr>\n",
              "      <th>1</th>\n",
              "      <td>1980-03-01</td>\n",
              "      <td>25.0</td>\n",
              "      <td>NaN</td>\n",
              "      <td>NaN</td>\n",
              "    </tr>\n",
              "    <tr>\n",
              "      <th>2</th>\n",
              "      <td>1980-06-01</td>\n",
              "      <td>26.0</td>\n",
              "      <td>NaN</td>\n",
              "      <td>NaN</td>\n",
              "    </tr>\n",
              "    <tr>\n",
              "      <th>3</th>\n",
              "      <td>1980-09-01</td>\n",
              "      <td>27.0</td>\n",
              "      <td>NaN</td>\n",
              "      <td>NaN</td>\n",
              "    </tr>\n",
              "    <tr>\n",
              "      <th>4</th>\n",
              "      <td>1980-12-01</td>\n",
              "      <td>28.0</td>\n",
              "      <td>NaN</td>\n",
              "      <td>NaN</td>\n",
              "    </tr>\n",
              "    <tr>\n",
              "      <th>...</th>\n",
              "      <td>...</td>\n",
              "      <td>...</td>\n",
              "      <td>...</td>\n",
              "      <td>...</td>\n",
              "    </tr>\n",
              "    <tr>\n",
              "      <th>164</th>\n",
              "      <td>2020-12-01</td>\n",
              "      <td>1385.7</td>\n",
              "      <td>16.1</td>\n",
              "      <td>3080.9</td>\n",
              "    </tr>\n",
              "    <tr>\n",
              "      <th>165</th>\n",
              "      <td>2021-03-01</td>\n",
              "      <td>1513.0</td>\n",
              "      <td>22.7</td>\n",
              "      <td>3379.1</td>\n",
              "    </tr>\n",
              "    <tr>\n",
              "      <th>166</th>\n",
              "      <td>2021-06-01</td>\n",
              "      <td>1591.5</td>\n",
              "      <td>28.5</td>\n",
              "      <td>3495.0</td>\n",
              "    </tr>\n",
              "    <tr>\n",
              "      <th>167</th>\n",
              "      <td>2021-09-01</td>\n",
              "      <td>1663.1</td>\n",
              "      <td>28.7</td>\n",
              "      <td>3704.3</td>\n",
              "    </tr>\n",
              "    <tr>\n",
              "      <th>168</th>\n",
              "      <td>2021-12-01</td>\n",
              "      <td>1763.1</td>\n",
              "      <td>25.2</td>\n",
              "      <td>3893.5</td>\n",
              "    </tr>\n",
              "  </tbody>\n",
              "</table>\n",
              "<p>169 rows × 4 columns</p>\n",
              "</div>\n",
              "      <button class=\"colab-df-convert\" onclick=\"convertToInteractive('df-ebe65d70-6775-429d-999f-8a820a236106')\"\n",
              "              title=\"Convert this dataframe to an interactive table.\"\n",
              "              style=\"display:none;\">\n",
              "        \n",
              "  <svg xmlns=\"http://www.w3.org/2000/svg\" height=\"24px\"viewBox=\"0 0 24 24\"\n",
              "       width=\"24px\">\n",
              "    <path d=\"M0 0h24v24H0V0z\" fill=\"none\"/>\n",
              "    <path d=\"M18.56 5.44l.94 2.06.94-2.06 2.06-.94-2.06-.94-.94-2.06-.94 2.06-2.06.94zm-11 1L8.5 8.5l.94-2.06 2.06-.94-2.06-.94L8.5 2.5l-.94 2.06-2.06.94zm10 10l.94 2.06.94-2.06 2.06-.94-2.06-.94-.94-2.06-.94 2.06-2.06.94z\"/><path d=\"M17.41 7.96l-1.37-1.37c-.4-.4-.92-.59-1.43-.59-.52 0-1.04.2-1.43.59L10.3 9.45l-7.72 7.72c-.78.78-.78 2.05 0 2.83L4 21.41c.39.39.9.59 1.41.59.51 0 1.02-.2 1.41-.59l7.78-7.78 2.81-2.81c.8-.78.8-2.07 0-2.86zM5.41 20L4 18.59l7.72-7.72 1.47 1.35L5.41 20z\"/>\n",
              "  </svg>\n",
              "      </button>\n",
              "      \n",
              "  <style>\n",
              "    .colab-df-container {\n",
              "      display:flex;\n",
              "      flex-wrap:wrap;\n",
              "      gap: 12px;\n",
              "    }\n",
              "\n",
              "    .colab-df-convert {\n",
              "      background-color: #E8F0FE;\n",
              "      border: none;\n",
              "      border-radius: 50%;\n",
              "      cursor: pointer;\n",
              "      display: none;\n",
              "      fill: #1967D2;\n",
              "      height: 32px;\n",
              "      padding: 0 0 0 0;\n",
              "      width: 32px;\n",
              "    }\n",
              "\n",
              "    .colab-df-convert:hover {\n",
              "      background-color: #E2EBFA;\n",
              "      box-shadow: 0px 1px 2px rgba(60, 64, 67, 0.3), 0px 1px 3px 1px rgba(60, 64, 67, 0.15);\n",
              "      fill: #174EA6;\n",
              "    }\n",
              "\n",
              "    [theme=dark] .colab-df-convert {\n",
              "      background-color: #3B4455;\n",
              "      fill: #D2E3FC;\n",
              "    }\n",
              "\n",
              "    [theme=dark] .colab-df-convert:hover {\n",
              "      background-color: #434B5C;\n",
              "      box-shadow: 0px 1px 3px 1px rgba(0, 0, 0, 0.15);\n",
              "      filter: drop-shadow(0px 1px 2px rgba(0, 0, 0, 0.3));\n",
              "      fill: #FFFFFF;\n",
              "    }\n",
              "  </style>\n",
              "\n",
              "      <script>\n",
              "        const buttonEl =\n",
              "          document.querySelector('#df-ebe65d70-6775-429d-999f-8a820a236106 button.colab-df-convert');\n",
              "        buttonEl.style.display =\n",
              "          google.colab.kernel.accessAllowed ? 'block' : 'none';\n",
              "\n",
              "        async function convertToInteractive(key) {\n",
              "          const element = document.querySelector('#df-ebe65d70-6775-429d-999f-8a820a236106');\n",
              "          const dataTable =\n",
              "            await google.colab.kernel.invokeFunction('convertToInteractive',\n",
              "                                                     [key], {});\n",
              "          if (!dataTable) return;\n",
              "\n",
              "          const docLinkHtml = 'Like what you see? Visit the ' +\n",
              "            '<a target=\"_blank\" href=https://colab.research.google.com/notebooks/data_table.ipynb>data table notebook</a>'\n",
              "            + ' to learn more about interactive tables.';\n",
              "          element.innerHTML = '';\n",
              "          dataTable['output_type'] = 'display_data';\n",
              "          await google.colab.output.renderOutput(dataTable, element);\n",
              "          const docLink = document.createElement('div');\n",
              "          docLink.innerHTML = docLinkHtml;\n",
              "          element.appendChild(docLink);\n",
              "        }\n",
              "      </script>\n",
              "    </div>\n",
              "  </div>\n",
              "  "
            ]
          },
          "metadata": {},
          "execution_count": 6
        }
      ]
    },
    {
      "cell_type": "markdown",
      "source": [
        "###Get statistics of the data using python"
      ],
      "metadata": {
        "id": "qCVoRvUhyxGo"
      }
    },
    {
      "cell_type": "code",
      "source": [
        "housing.describe()"
      ],
      "metadata": {
        "colab": {
          "base_uri": "https://localhost:8080/",
          "height": 300
        },
        "id": "9Xe5Psk0eIv6",
        "outputId": "5b4ddecb-8f7c-424c-a167-7706688678ee"
      },
      "execution_count": null,
      "outputs": [
        {
          "output_type": "execute_result",
          "data": {
            "text/plain": [
              "       Value of Housing $Billion  \\\n",
              "count                 169.000000   \n",
              "mean                  425.053254   \n",
              "std                   394.275427   \n",
              "min                    25.000000   \n",
              "25%                   123.000000   \n",
              "50%                   232.000000   \n",
              "75%                   613.700000   \n",
              "max                  1763.100000   \n",
              "\n",
              "       House Prices - RBNZ Linked all Residential HPI Series A%  \\\n",
              "count                                         125.000000          \n",
              "mean                                            7.076000          \n",
              "std                                             7.385987          \n",
              "min                                            -9.000000          \n",
              "25%                                             2.300000          \n",
              "50%                                             6.400000          \n",
              "75%                                            12.300000          \n",
              "max                                            28.700000          \n",
              "\n",
              "       HPI for Houses, Index  \n",
              "count             129.000000  \n",
              "mean             1337.831783  \n",
              "std               802.662676  \n",
              "min               466.300000  \n",
              "25%               695.900000  \n",
              "50%              1299.900000  \n",
              "75%              1714.900000  \n",
              "max              3893.500000  "
            ],
            "text/html": [
              "\n",
              "  <div id=\"df-0b9ac742-a3b3-4ac0-816f-44ffadb15cd5\">\n",
              "    <div class=\"colab-df-container\">\n",
              "      <div>\n",
              "<style scoped>\n",
              "    .dataframe tbody tr th:only-of-type {\n",
              "        vertical-align: middle;\n",
              "    }\n",
              "\n",
              "    .dataframe tbody tr th {\n",
              "        vertical-align: top;\n",
              "    }\n",
              "\n",
              "    .dataframe thead th {\n",
              "        text-align: right;\n",
              "    }\n",
              "</style>\n",
              "<table border=\"1\" class=\"dataframe\">\n",
              "  <thead>\n",
              "    <tr style=\"text-align: right;\">\n",
              "      <th></th>\n",
              "      <th>Value of Housing $Billion</th>\n",
              "      <th>House Prices - RBNZ Linked all Residential HPI Series A%</th>\n",
              "      <th>HPI for Houses, Index</th>\n",
              "    </tr>\n",
              "  </thead>\n",
              "  <tbody>\n",
              "    <tr>\n",
              "      <th>count</th>\n",
              "      <td>169.000000</td>\n",
              "      <td>125.000000</td>\n",
              "      <td>129.000000</td>\n",
              "    </tr>\n",
              "    <tr>\n",
              "      <th>mean</th>\n",
              "      <td>425.053254</td>\n",
              "      <td>7.076000</td>\n",
              "      <td>1337.831783</td>\n",
              "    </tr>\n",
              "    <tr>\n",
              "      <th>std</th>\n",
              "      <td>394.275427</td>\n",
              "      <td>7.385987</td>\n",
              "      <td>802.662676</td>\n",
              "    </tr>\n",
              "    <tr>\n",
              "      <th>min</th>\n",
              "      <td>25.000000</td>\n",
              "      <td>-9.000000</td>\n",
              "      <td>466.300000</td>\n",
              "    </tr>\n",
              "    <tr>\n",
              "      <th>25%</th>\n",
              "      <td>123.000000</td>\n",
              "      <td>2.300000</td>\n",
              "      <td>695.900000</td>\n",
              "    </tr>\n",
              "    <tr>\n",
              "      <th>50%</th>\n",
              "      <td>232.000000</td>\n",
              "      <td>6.400000</td>\n",
              "      <td>1299.900000</td>\n",
              "    </tr>\n",
              "    <tr>\n",
              "      <th>75%</th>\n",
              "      <td>613.700000</td>\n",
              "      <td>12.300000</td>\n",
              "      <td>1714.900000</td>\n",
              "    </tr>\n",
              "    <tr>\n",
              "      <th>max</th>\n",
              "      <td>1763.100000</td>\n",
              "      <td>28.700000</td>\n",
              "      <td>3893.500000</td>\n",
              "    </tr>\n",
              "  </tbody>\n",
              "</table>\n",
              "</div>\n",
              "      <button class=\"colab-df-convert\" onclick=\"convertToInteractive('df-0b9ac742-a3b3-4ac0-816f-44ffadb15cd5')\"\n",
              "              title=\"Convert this dataframe to an interactive table.\"\n",
              "              style=\"display:none;\">\n",
              "        \n",
              "  <svg xmlns=\"http://www.w3.org/2000/svg\" height=\"24px\"viewBox=\"0 0 24 24\"\n",
              "       width=\"24px\">\n",
              "    <path d=\"M0 0h24v24H0V0z\" fill=\"none\"/>\n",
              "    <path d=\"M18.56 5.44l.94 2.06.94-2.06 2.06-.94-2.06-.94-.94-2.06-.94 2.06-2.06.94zm-11 1L8.5 8.5l.94-2.06 2.06-.94-2.06-.94L8.5 2.5l-.94 2.06-2.06.94zm10 10l.94 2.06.94-2.06 2.06-.94-2.06-.94-.94-2.06-.94 2.06-2.06.94z\"/><path d=\"M17.41 7.96l-1.37-1.37c-.4-.4-.92-.59-1.43-.59-.52 0-1.04.2-1.43.59L10.3 9.45l-7.72 7.72c-.78.78-.78 2.05 0 2.83L4 21.41c.39.39.9.59 1.41.59.51 0 1.02-.2 1.41-.59l7.78-7.78 2.81-2.81c.8-.78.8-2.07 0-2.86zM5.41 20L4 18.59l7.72-7.72 1.47 1.35L5.41 20z\"/>\n",
              "  </svg>\n",
              "      </button>\n",
              "      \n",
              "  <style>\n",
              "    .colab-df-container {\n",
              "      display:flex;\n",
              "      flex-wrap:wrap;\n",
              "      gap: 12px;\n",
              "    }\n",
              "\n",
              "    .colab-df-convert {\n",
              "      background-color: #E8F0FE;\n",
              "      border: none;\n",
              "      border-radius: 50%;\n",
              "      cursor: pointer;\n",
              "      display: none;\n",
              "      fill: #1967D2;\n",
              "      height: 32px;\n",
              "      padding: 0 0 0 0;\n",
              "      width: 32px;\n",
              "    }\n",
              "\n",
              "    .colab-df-convert:hover {\n",
              "      background-color: #E2EBFA;\n",
              "      box-shadow: 0px 1px 2px rgba(60, 64, 67, 0.3), 0px 1px 3px 1px rgba(60, 64, 67, 0.15);\n",
              "      fill: #174EA6;\n",
              "    }\n",
              "\n",
              "    [theme=dark] .colab-df-convert {\n",
              "      background-color: #3B4455;\n",
              "      fill: #D2E3FC;\n",
              "    }\n",
              "\n",
              "    [theme=dark] .colab-df-convert:hover {\n",
              "      background-color: #434B5C;\n",
              "      box-shadow: 0px 1px 3px 1px rgba(0, 0, 0, 0.15);\n",
              "      filter: drop-shadow(0px 1px 2px rgba(0, 0, 0, 0.3));\n",
              "      fill: #FFFFFF;\n",
              "    }\n",
              "  </style>\n",
              "\n",
              "      <script>\n",
              "        const buttonEl =\n",
              "          document.querySelector('#df-0b9ac742-a3b3-4ac0-816f-44ffadb15cd5 button.colab-df-convert');\n",
              "        buttonEl.style.display =\n",
              "          google.colab.kernel.accessAllowed ? 'block' : 'none';\n",
              "\n",
              "        async function convertToInteractive(key) {\n",
              "          const element = document.querySelector('#df-0b9ac742-a3b3-4ac0-816f-44ffadb15cd5');\n",
              "          const dataTable =\n",
              "            await google.colab.kernel.invokeFunction('convertToInteractive',\n",
              "                                                     [key], {});\n",
              "          if (!dataTable) return;\n",
              "\n",
              "          const docLinkHtml = 'Like what you see? Visit the ' +\n",
              "            '<a target=\"_blank\" href=https://colab.research.google.com/notebooks/data_table.ipynb>data table notebook</a>'\n",
              "            + ' to learn more about interactive tables.';\n",
              "          element.innerHTML = '';\n",
              "          dataTable['output_type'] = 'display_data';\n",
              "          await google.colab.output.renderOutput(dataTable, element);\n",
              "          const docLink = document.createElement('div');\n",
              "          docLink.innerHTML = docLinkHtml;\n",
              "          element.appendChild(docLink);\n",
              "        }\n",
              "      </script>\n",
              "    </div>\n",
              "  </div>\n",
              "  "
            ]
          },
          "metadata": {},
          "execution_count": 7
        }
      ]
    },
    {
      "cell_type": "markdown",
      "source": [
        "###Does the data contain missing values?"
      ],
      "metadata": {
        "id": "eKADcB4qy8mC"
      }
    },
    {
      "cell_type": "markdown",
      "source": [
        "Yes, we do have missing values"
      ],
      "metadata": {
        "id": "kTtVBjz2mldB"
      }
    },
    {
      "cell_type": "code",
      "source": [
        "housing.isnull().values.any()"
      ],
      "metadata": {
        "colab": {
          "base_uri": "https://localhost:8080/"
        },
        "id": "ImuoqKLcy-cb",
        "outputId": "49d3a96f-6447-4557-ba85-5ae97fd14448"
      },
      "execution_count": null,
      "outputs": [
        {
          "output_type": "execute_result",
          "data": {
            "text/plain": [
              "True"
            ]
          },
          "metadata": {},
          "execution_count": 8
        }
      ]
    },
    {
      "cell_type": "markdown",
      "source": [
        "This are the amount of missing values for each column"
      ],
      "metadata": {
        "id": "-iGc36AVmpxA"
      }
    },
    {
      "cell_type": "code",
      "source": [
        "housing.isnull().sum()"
      ],
      "metadata": {
        "colab": {
          "base_uri": "https://localhost:8080/"
        },
        "id": "TzdFGD-gmDLQ",
        "outputId": "780e66de-521f-4637-9047-d86d9b8234ac"
      },
      "execution_count": null,
      "outputs": [
        {
          "output_type": "execute_result",
          "data": {
            "text/plain": [
              "Date                                                         0\n",
              "Value of Housing $Billion                                    0\n",
              "House Prices - RBNZ Linked all Residential HPI Series A%    44\n",
              "HPI for Houses, Index                                       40\n",
              "dtype: int64"
            ]
          },
          "metadata": {},
          "execution_count": 9
        }
      ]
    },
    {
      "cell_type": "markdown",
      "source": [
        "This is the total summation of all missing values in the Dataframe"
      ],
      "metadata": {
        "id": "H8lYXk65nHcF"
      }
    },
    {
      "cell_type": "code",
      "source": [
        "housing.isnull().sum().sum()"
      ],
      "metadata": {
        "colab": {
          "base_uri": "https://localhost:8080/"
        },
        "id": "c5kmpvRymL78",
        "outputId": "12d6903f-553c-4fc6-afe8-8bc6a612c4d9"
      },
      "execution_count": null,
      "outputs": [
        {
          "output_type": "execute_result",
          "data": {
            "text/plain": [
              "84"
            ]
          },
          "metadata": {},
          "execution_count": 10
        }
      ]
    },
    {
      "cell_type": "markdown",
      "source": [
        "###Draw the graph of House prices annual change (in percentage) using matplotlib or seaborn using a suitable chart of your choice."
      ],
      "metadata": {
        "id": "pSpmfztYoWSI"
      }
    },
    {
      "cell_type": "code",
      "source": [
        "from matplotlib import pyplot as plt\n",
        "import seaborn as sns"
      ],
      "metadata": {
        "id": "0W9LQDzdnAim"
      },
      "execution_count": null,
      "outputs": []
    },
    {
      "cell_type": "code",
      "source": [
        "plt.figure(figsize=(15,5))\n",
        "plt.title('House Prices Annual Change')\n",
        "plt.ylabel('Percentage')\n",
        "plt.xlabel('Year')\n",
        "\n",
        "\n",
        "plt.plot(housing['Date'] ,housing['House Prices - RBNZ Linked all Residential HPI Series A%'],Label=\"House prices(annual % change)\")\n",
        "plt.legend()\n",
        "plt.tight_layout()\n",
        "plt.show()"
      ],
      "metadata": {
        "colab": {
          "base_uri": "https://localhost:8080/",
          "height": 369
        },
        "id": "bzWzebLwqQzb",
        "outputId": "ad78b4a0-ed10-4d98-8ca8-f23d4451091f"
      },
      "execution_count": null,
      "outputs": [
        {
          "output_type": "display_data",
          "data": {
            "text/plain": [
              "<Figure size 1080x360 with 1 Axes>"
            ],
            "image/png": "[encoded data removed]"
          },
          "metadata": {
            "needs_background": "light"
          }
        }
      ]
    },
    {
      "cell_type": "markdown",
      "source": [
        "###Combine the previous graph with a graph of HPI for houses"
      ],
      "metadata": {
        "id": "OZSQ68ysoeWQ"
      }
    },
    {
      "cell_type": "code",
      "source": [
        "plt.figure(figsize=(15,5))\n",
        "plt.title('House Prices Annual Change')\n",
        "plt.ylabel('Percentage')\n",
        "plt.xlabel('Year')\n",
        "\n",
        "plt.plot(housing['Date'] ,housing['House Prices - RBNZ Linked all Residential HPI Series A%'],Label=\"House prices(annual % change)\")\n",
        "plt.plot(housing['Date'] ,housing['HPI for Houses, Index'],Label=\"HPI for Houses, Index)\")\n",
        "plt.legend()\n",
        "plt.tight_layout()\n",
        "plt.show()"
      ],
      "metadata": {
        "colab": {
          "base_uri": "https://localhost:8080/",
          "height": 369
        },
        "id": "7VEUq2qIUGyU",
        "outputId": "06c6791f-a367-4bca-a872-cab972246bf9"
      },
      "execution_count": null,
      "outputs": [
        {
          "output_type": "display_data",
          "data": {
            "text/plain": [
              "<Figure size 1080x360 with 1 Axes>"
            ],
            "image/png": "[encoded data removed]"
          },
          "metadata": {
            "needs_background": "light"
          }
        }
      ]
    },
    {
      "cell_type": "code",
      "source": [
        "import seaborn as sns"
      ],
      "metadata": {
        "id": "zBss_r_Koqqz"
      },
      "execution_count": null,
      "outputs": []
    },
    {
      "cell_type": "code",
      "source": [
        "anual = housing['House Prices - RBNZ Linked all Residential HPI Series A%']\n",
        "hpi = housing['HPI for Houses, Index']\n",
        "\n",
        "df1 = sns.jointplot(x=anual,y=hpi,data=hpi,kind='reg')\n",
        "#df2 = sns.jointplot(x=hpi,y=hpi,data=anual,kind='reg')\n",
        "\n",
        "df1.fig.set_size_inches(15,15)\n",
        "#df2.fig.set_size_inches(15,15)"
      ],
      "metadata": {
        "colab": {
          "base_uri": "https://localhost:8080/",
          "height": 1000
        },
        "id": "3G0BaziPZe9M",
        "outputId": "7a7f2a76-84f9-4ad3-86d4-58f1e95eac7a"
      },
      "execution_count": null,
      "outputs": [
        {
          "output_type": "display_data",
          "data": {
            "text/plain": [
              "<Figure size 1080x1080 with 3 Axes>"
            ],
            "image/png": "[encoded data removed]"
          },
          "metadata": {
            "needs_background": "light"
          }
        }
      ]
    },
    {
      "cell_type": "markdown",
      "source": [
        "###What can you tell about the trend of the housing price in New Zealand?"
      ],
      "metadata": {
        "id": "iuDFiCxWh3Dz"
      }
    },
    {
      "cell_type": "markdown",
      "source": [
        "![image.png](data:image/png;base64,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)"
      ],
      "metadata": {
        "id": "FGD6VMUQZKme"
      }
    },
    {
      "cell_type": "markdown",
      "source": [
        "Throughout 1990 to 2022 the house prices had some irregular changes. Between 1990 and 1996 \n",
        "it had a spiked in house price in 1995 but after 1996 it slowly went down which in 1999 we saw\n",
        "decline of house price.\n",
        "\n",
        "During 2001 the house price was going up and we got a huge spike on housing price between 2001 and 2004 then it slowly\n",
        "went down and in 2009 it had the lowest house price throughout 1990 to 2022.\n",
        "\n",
        "After 2009 to 2019 prices was going up and down but on 2020 we saw another spike on house prices."
      ],
      "metadata": {
        "id": "JtAY8fRcoxs2"
      }
    },
    {
      "cell_type": "markdown",
      "source": [
        "![image.png](data:image/png;base64,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)"
      ],
      "metadata": {
        "id": "51hg2jX2ZO7a"
      }
    },
    {
      "cell_type": "markdown",
      "source": [
        "The HPI for house was slowly going on the rise from 1990 to 2020"
      ],
      "metadata": {
        "id": "qHOb6jrxZQWd"
      }
    },
    {
      "cell_type": "markdown",
      "source": [
        "#Task 2"
      ],
      "metadata": {
        "id": "t7F9T9aB3TOl"
      }
    },
    {
      "cell_type": "markdown",
      "source": [
        "##Random Forest"
      ],
      "metadata": {
        "id": "xQscs54iGL7b"
      }
    },
    {
      "cell_type": "code",
      "source": [
        "from sklearn.datasets import load_digits\n",
        "%matplotlib inline\n",
        "import matplotlib.pyplot as plt\n",
        "import pandas as pd\n",
        "import numpy as np\n",
        "\n",
        "df_test = pd.read_csv(\"/content/mnist_test.csv\")\n",
        "df_train = pd.read_csv(\"/content/mnist_train.csv\")"
      ],
      "metadata": {
        "id": "tbpxCSaF3UcT"
      },
      "execution_count": null,
      "outputs": []
    },
    {
      "cell_type": "code",
      "source": [
        "df_train['target'] = df_train.iloc[:, 0]"
      ],
      "metadata": {
        "id": "GoHt2wuDJ_uW"
      },
      "execution_count": null,
      "outputs": []
    },
    {
      "cell_type": "code",
      "source": [
        "df_train.head()"
      ],
      "metadata": {
        "colab": {
          "base_uri": "https://localhost:8080/",
          "height": 236
        },
        "id": "0O3-yk_CKGYl",
        "outputId": "bbb65a58-40d4-46ac-b3f5-d967af1957a0"
      },
      "execution_count": null,
      "outputs": [
        {
          "output_type": "execute_result",
          "data": {
            "text/plain": [
              "   5  0  0.1  0.2  0.3  0.4  0.5  0.6  0.7  0.8  ...  0.609  0.610  0.611  \\\n",
              "0  0  0    0    0    0    0    0    0    0    0  ...      0      0      0   \n",
              "1  4  0    0    0    0    0    0    0    0    0  ...      0      0      0   \n",
              "2  1  0    0    0    0    0    0    0    0    0  ...      0      0      0   \n",
              "3  9  0    0    0    0    0    0    0    0    0  ...      0      0      0   \n",
              "4  2  0    0    0    0    0    0    0    0    0  ...      0      0      0   \n",
              "\n",
              "   0.612  0.613  0.614  0.615  0.616  0.617  target  \n",
              "0      0      0      0      0      0      0       0  \n",
              "1      0      0      0      0      0      0       4  \n",
              "2      0      0      0      0      0      0       1  \n",
              "3      0      0      0      0      0      0       9  \n",
              "4      0      0      0      0      0      0       2  \n",
              "\n",
              "[5 rows x 786 columns]"
            ],
            "text/html": [
              "\n",
              "  <div id=\"df-0440393c-76bf-4a66-94b8-00ffeeb1e369\">\n",
              "    <div class=\"colab-df-container\">\n",
              "      <div>\n",
              "<style scoped>\n",
              "    .dataframe tbody tr th:only-of-type {\n",
              "        vertical-align: middle;\n",
              "    }\n",
              "\n",
              "    .dataframe tbody tr th {\n",
              "        vertical-align: top;\n",
              "    }\n",
              "\n",
              "    .dataframe thead th {\n",
              "        text-align: right;\n",
              "    }\n",
              "</style>\n",
              "<table border=\"1\" class=\"dataframe\">\n",
              "  <thead>\n",
              "    <tr style=\"text-align: right;\">\n",
              "      <th></th>\n",
              "      <th>5</th>\n",
              "      <th>0</th>\n",
              "      <th>0.1</th>\n",
              "      <th>0.2</th>\n",
              "      <th>0.3</th>\n",
              "      <th>0.4</th>\n",
              "      <th>0.5</th>\n",
              "      <th>0.6</th>\n",
              "      <th>0.7</th>\n",
              "      <th>0.8</th>\n",
              "      <th>...</th>\n",
              "      <th>0.609</th>\n",
              "      <th>0.610</th>\n",
              "      <th>0.611</th>\n",
              "      <th>0.612</th>\n",
              "      <th>0.613</th>\n",
              "      <th>0.614</th>\n",
              "      <th>0.615</th>\n",
              "      <th>0.616</th>\n",
              "      <th>0.617</th>\n",
              "      <th>target</th>\n",
              "    </tr>\n",
              "  </thead>\n",
              "  <tbody>\n",
              "    <tr>\n",
              "      <th>0</th>\n",
              "      <td>0</td>\n",
              "      <td>0</td>\n",
              "      <td>0</td>\n",
              "      <td>0</td>\n",
              "      <td>0</td>\n",
              "      <td>0</td>\n",
              "      <td>0</td>\n",
              "      <td>0</td>\n",
              "      <td>0</td>\n",
              "      <td>0</td>\n",
              "      <td>...</td>\n",
              "      <td>0</td>\n",
              "      <td>0</td>\n",
              "      <td>0</td>\n",
              "      <td>0</td>\n",
              "      <td>0</td>\n",
              "      <td>0</td>\n",
              "      <td>0</td>\n",
              "      <td>0</td>\n",
              "      <td>0</td>\n",
              "      <td>0</td>\n",
              "    </tr>\n",
              "    <tr>\n",
              "      <th>1</th>\n",
              "      <td>4</td>\n",
              "      <td>0</td>\n",
              "      <td>0</td>\n",
              "      <td>0</td>\n",
              "      <td>0</td>\n",
              "      <td>0</td>\n",
              "      <td>0</td>\n",
              "      <td>0</td>\n",
              "      <td>0</td>\n",
              "      <td>0</td>\n",
              "      <td>...</td>\n",
              "      <td>0</td>\n",
              "      <td>0</td>\n",
              "      <td>0</td>\n",
              "      <td>0</td>\n",
              "      <td>0</td>\n",
              "      <td>0</td>\n",
              "      <td>0</td>\n",
              "      <td>0</td>\n",
              "      <td>0</td>\n",
              "      <td>4</td>\n",
              "    </tr>\n",
              "    <tr>\n",
              "      <th>2</th>\n",
              "      <td>1</td>\n",
              "      <td>0</td>\n",
              "      <td>0</td>\n",
              "      <td>0</td>\n",
              "      <td>0</td>\n",
              "      <td>0</td>\n",
              "      <td>0</td>\n",
              "      <td>0</td>\n",
              "      <td>0</td>\n",
              "      <td>0</td>\n",
              "      <td>...</td>\n",
              "      <td>0</td>\n",
              "      <td>0</td>\n",
              "      <td>0</td>\n",
              "      <td>0</td>\n",
              "      <td>0</td>\n",
              "      <td>0</td>\n",
              "      <td>0</td>\n",
              "      <td>0</td>\n",
              "      <td>0</td>\n",
              "      <td>1</td>\n",
              "    </tr>\n",
              "    <tr>\n",
              "      <th>3</th>\n",
              "      <td>9</td>\n",
              "      <td>0</td>\n",
              "      <td>0</td>\n",
              "      <td>0</td>\n",
              "      <td>0</td>\n",
              "      <td>0</td>\n",
              "      <td>0</td>\n",
              "      <td>0</td>\n",
              "      <td>0</td>\n",
              "      <td>0</td>\n",
              "      <td>...</td>\n",
              "      <td>0</td>\n",
              "      <td>0</td>\n",
              "      <td>0</td>\n",
              "      <td>0</td>\n",
              "      <td>0</td>\n",
              "      <td>0</td>\n",
              "      <td>0</td>\n",
              "      <td>0</td>\n",
              "      <td>0</td>\n",
              "      <td>9</td>\n",
              "    </tr>\n",
              "    <tr>\n",
              "      <th>4</th>\n",
              "      <td>2</td>\n",
              "      <td>0</td>\n",
              "      <td>0</td>\n",
              "      <td>0</td>\n",
              "      <td>0</td>\n",
              "      <td>0</td>\n",
              "      <td>0</td>\n",
              "      <td>0</td>\n",
              "      <td>0</td>\n",
              "      <td>0</td>\n",
              "      <td>...</td>\n",
              "      <td>0</td>\n",
              "      <td>0</td>\n",
              "      <td>0</td>\n",
              "      <td>0</td>\n",
              "      <td>0</td>\n",
              "      <td>0</td>\n",
              "      <td>0</td>\n",
              "      <td>0</td>\n",
              "      <td>0</td>\n",
              "      <td>2</td>\n",
              "    </tr>\n",
              "  </tbody>\n",
              "</table>\n",
              "<p>5 rows × 786 columns</p>\n",
              "</div>\n",
              "      <button class=\"colab-df-convert\" onclick=\"convertToInteractive('df-0440393c-76bf-4a66-94b8-00ffeeb1e369')\"\n",
              "              title=\"Convert this dataframe to an interactive table.\"\n",
              "              style=\"display:none;\">\n",
              "        \n",
              "  <svg xmlns=\"http://www.w3.org/2000/svg\" height=\"24px\"viewBox=\"0 0 24 24\"\n",
              "       width=\"24px\">\n",
              "    <path d=\"M0 0h24v24H0V0z\" fill=\"none\"/>\n",
              "    <path d=\"M18.56 5.44l.94 2.06.94-2.06 2.06-.94-2.06-.94-.94-2.06-.94 2.06-2.06.94zm-11 1L8.5 8.5l.94-2.06 2.06-.94-2.06-.94L8.5 2.5l-.94 2.06-2.06.94zm10 10l.94 2.06.94-2.06 2.06-.94-2.06-.94-.94-2.06-.94 2.06-2.06.94z\"/><path d=\"M17.41 7.96l-1.37-1.37c-.4-.4-.92-.59-1.43-.59-.52 0-1.04.2-1.43.59L10.3 9.45l-7.72 7.72c-.78.78-.78 2.05 0 2.83L4 21.41c.39.39.9.59 1.41.59.51 0 1.02-.2 1.41-.59l7.78-7.78 2.81-2.81c.8-.78.8-2.07 0-2.86zM5.41 20L4 18.59l7.72-7.72 1.47 1.35L5.41 20z\"/>\n",
              "  </svg>\n",
              "      </button>\n",
              "      \n",
              "  <style>\n",
              "    .colab-df-container {\n",
              "      display:flex;\n",
              "      flex-wrap:wrap;\n",
              "      gap: 12px;\n",
              "    }\n",
              "\n",
              "    .colab-df-convert {\n",
              "      background-color: #E8F0FE;\n",
              "      border: none;\n",
              "      border-radius: 50%;\n",
              "      cursor: pointer;\n",
              "      display: none;\n",
              "      fill: #1967D2;\n",
              "      height: 32px;\n",
              "      padding: 0 0 0 0;\n",
              "      width: 32px;\n",
              "    }\n",
              "\n",
              "    .colab-df-convert:hover {\n",
              "      background-color: #E2EBFA;\n",
              "      box-shadow: 0px 1px 2px rgba(60, 64, 67, 0.3), 0px 1px 3px 1px rgba(60, 64, 67, 0.15);\n",
              "      fill: #174EA6;\n",
              "    }\n",
              "\n",
              "    [theme=dark] .colab-df-convert {\n",
              "      background-color: #3B4455;\n",
              "      fill: #D2E3FC;\n",
              "    }\n",
              "\n",
              "    [theme=dark] .colab-df-convert:hover {\n",
              "      background-color: #434B5C;\n",
              "      box-shadow: 0px 1px 3px 1px rgba(0, 0, 0, 0.15);\n",
              "      filter: drop-shadow(0px 1px 2px rgba(0, 0, 0, 0.3));\n",
              "      fill: #FFFFFF;\n",
              "    }\n",
              "  </style>\n",
              "\n",
              "      <script>\n",
              "        const buttonEl =\n",
              "          document.querySelector('#df-0440393c-76bf-4a66-94b8-00ffeeb1e369 button.colab-df-convert');\n",
              "        buttonEl.style.display =\n",
              "          google.colab.kernel.accessAllowed ? 'block' : 'none';\n",
              "\n",
              "        async function convertToInteractive(key) {\n",
              "          const element = document.querySelector('#df-0440393c-76bf-4a66-94b8-00ffeeb1e369');\n",
              "          const dataTable =\n",
              "            await google.colab.kernel.invokeFunction('convertToInteractive',\n",
              "                                                     [key], {});\n",
              "          if (!dataTable) return;\n",
              "\n",
              "          const docLinkHtml = 'Like what you see? Visit the ' +\n",
              "            '<a target=\"_blank\" href=https://colab.research.google.com/notebooks/data_table.ipynb>data table notebook</a>'\n",
              "            + ' to learn more about interactive tables.';\n",
              "          element.innerHTML = '';\n",
              "          dataTable['output_type'] = 'display_data';\n",
              "          await google.colab.output.renderOutput(dataTable, element);\n",
              "          const docLink = document.createElement('div');\n",
              "          docLink.innerHTML = docLinkHtml;\n",
              "          element.appendChild(docLink);\n",
              "        }\n",
              "      </script>\n",
              "    </div>\n",
              "  </div>\n",
              "  "
            ]
          },
          "metadata": {},
          "execution_count": 75
        }
      ]
    },
    {
      "cell_type": "code",
      "source": [
        "from sklearn.model_selection import train_test_split\n",
        "X_train, X_test, y_train, y_test = train_test_split(df_train.drop(['target'], axis='columns'),df_train.iloc[:, 0],test_size = 0.333,random_state=10, stratify=df_train.iloc[:, 0])"
      ],
      "metadata": {
        "id": "XdkS2JP5KW9E"
      },
      "execution_count": null,
      "outputs": []
    },
    {
      "cell_type": "code",
      "source": [
        "X_train.shape,y_train.shape"
      ],
      "metadata": {
        "colab": {
          "base_uri": "https://localhost:8080/"
        },
        "id": "gGx4vd8Co3oy",
        "outputId": "c0719dc3-112e-4eb8-b289-ee28e8985d04"
      },
      "execution_count": null,
      "outputs": [
        {
          "output_type": "execute_result",
          "data": {
            "text/plain": [
              "((40019, 785), (40019,))"
            ]
          },
          "metadata": {},
          "execution_count": 77
        }
      ]
    },
    {
      "cell_type": "code",
      "source": [
        "X_test.shape,y_test.shape"
      ],
      "metadata": {
        "colab": {
          "base_uri": "https://localhost:8080/"
        },
        "id": "cmkR9xyyWqwX",
        "outputId": "43fdbee9-3c6c-4f28-b7c6-df0e5f91334c"
      },
      "execution_count": null,
      "outputs": [
        {
          "output_type": "execute_result",
          "data": {
            "text/plain": [
              "((19980, 785), (19980,))"
            ]
          },
          "metadata": {},
          "execution_count": 78
        }
      ]
    },
    {
      "cell_type": "code",
      "source": [
        "from sklearn.ensemble import RandomForestClassifier\n",
        "\n",
        "model = RandomForestClassifier()\n",
        "model.fit(X_train, y_train)"
      ],
      "metadata": {
        "colab": {
          "base_uri": "https://localhost:8080/"
        },
        "id": "IpeZcnjTLkwW",
        "outputId": "da98c603-2bd4-4944-fa8b-94903c39b041"
      },
      "execution_count": null,
      "outputs": [
        {
          "output_type": "execute_result",
          "data": {
            "text/plain": [
              "RandomForestClassifier()"
            ]
          },
          "metadata": {},
          "execution_count": 79
        }
      ]
    },
    {
      "cell_type": "code",
      "source": [
        "model.score(X_test, y_test)"
      ],
      "metadata": {
        "colab": {
          "base_uri": "https://localhost:8080/"
        },
        "id": "dUH2p_JIL7Wo",
        "outputId": "7240044c-0636-41e7-f6ad-6af5e8c041ef"
      },
      "execution_count": null,
      "outputs": [
        {
          "output_type": "execute_result",
          "data": {
            "text/plain": [
              "0.9855355355355355"
            ]
          },
          "metadata": {},
          "execution_count": 80
        }
      ]
    },
    {
      "cell_type": "code",
      "source": [
        "y_predicted = model.predict(X_test)"
      ],
      "metadata": {
        "id": "cSuluNxBMH1I"
      },
      "execution_count": null,
      "outputs": []
    },
    {
      "cell_type": "code",
      "source": [
        "from sklearn.metrics import accuracy_score\n",
        "accuracy_score(y_predicted,y_test)"
      ],
      "metadata": {
        "id": "i44DOKdzcFhv",
        "colab": {
          "base_uri": "https://localhost:8080/"
        },
        "outputId": "77da913b-1cf8-4752-a40f-6c05d937e306"
      },
      "execution_count": null,
      "outputs": [
        {
          "output_type": "execute_result",
          "data": {
            "text/plain": [
              "0.9855355355355355"
            ]
          },
          "metadata": {},
          "execution_count": 82
        }
      ]
    },
    {
      "cell_type": "code",
      "source": [
        "train_accuracy_default_params = model.score(X_train, y_train)\n",
        "test_accuracy_default_params = model.score(X_test, y_test)\n",
        "\n",
        "print(f'Train Accuracy - : {train_accuracy_default_params:.3f}')\n",
        "print(f'Test Accuracy - : {test_accuracy_default_params:.3f}')"
      ],
      "metadata": {
        "colab": {
          "base_uri": "https://localhost:8080/"
        },
        "id": "JtPHsscYpUCr",
        "outputId": "d61bfe3b-d4b8-493e-f906-9c174d8aa41a"
      },
      "execution_count": null,
      "outputs": [
        {
          "output_type": "stream",
          "name": "stdout",
          "text": [
            "Train Accuracy - : 1.000\n",
            "Test Accuracy - : 0.986\n"
          ]
        }
      ]
    },
    {
      "cell_type": "code",
      "source": [
        "from sklearn.metrics import confusion_matrix\n",
        "cm = confusion_matrix(y_test, y_predicted)\n",
        "cm"
      ],
      "metadata": {
        "colab": {
          "base_uri": "https://localhost:8080/"
        },
        "id": "4DSe1Mo8Mt5X",
        "outputId": "36cb8587-a948-44ba-fef9-4216c3af8a5b"
      },
      "execution_count": null,
      "outputs": [
        {
          "output_type": "execute_result",
          "data": {
            "text/plain": [
              "array([[1964,    0,    2,    1,    1,    0,    0,    0,    2,    2],\n",
              "       [   0, 2225,   10,    2,    4,    1,    0,    2,    1,    0],\n",
              "       [   3,    1, 1956,    9,    2,    1,    1,    5,    6,    0],\n",
              "       [   0,    1,   18, 1990,    2,    6,    1,    9,   11,    4],\n",
              "       [   0,    4,    2,    1, 1922,    0,    8,    3,    4,    2],\n",
              "       [   2,    0,    1,   10,    3, 1768,   12,    2,    4,    3],\n",
              "       [   2,    0,    0,    0,    1,   13, 1949,    0,    6,    0],\n",
              "       [   1,    2,    6,    3,    5,    0,    0, 2063,    2,    4],\n",
              "       [   1,    2,    2,    5,    3,    8,    7,    2, 1910,    8],\n",
              "       [   1,    1,    0,    2,    3,    2,    1,   14,   13, 1944]])"
            ]
          },
          "metadata": {},
          "execution_count": 84
        }
      ]
    },
    {
      "cell_type": "code",
      "source": [
        "import seaborn as sn\n",
        "\n",
        "plt.figure(figsize=(15,10))\n",
        "sn.heatmap(cm,annot=True)\n",
        "plt.xlabel(\"Predicted\")\n",
        "plt.ylabel(\"Truth\")"
      ],
      "metadata": {
        "colab": {
          "base_uri": "https://localhost:8080/",
          "height": 623
        },
        "id": "vzFlrfQXM51X",
        "outputId": "ca84429d-658c-4ad9-cd43-e0682eacc7de"
      },
      "execution_count": null,
      "outputs": [
        {
          "output_type": "execute_result",
          "data": {
            "text/plain": [
              "Text(114.0, 0.5, 'Truth')"
            ]
          },
          "metadata": {},
          "execution_count": 85
        },
        {
          "output_type": "display_data",
          "data": {
            "text/plain": [
              "<Figure size 1080x720 with 2 Axes>"
            ],
            "image/png": "[encoded data removed]"
          },
          "metadata": {
            "needs_background": "light"
          }
        }
      ]
    },
    {
      "cell_type": "code",
      "source": [
        "from sklearn.metrics import classification_report\n",
        "# View the classification report for test data and predictions\n",
        "print(classification_report(y_test, y_predicted))"
      ],
      "metadata": {
        "colab": {
          "base_uri": "https://localhost:8080/"
        },
        "id": "KbB8sm5WScfX",
        "outputId": "053fe82e-366b-48bc-ba70-2056c4652be3"
      },
      "execution_count": null,
      "outputs": [
        {
          "output_type": "stream",
          "name": "stdout",
          "text": [
            "              precision    recall  f1-score   support\n",
            "\n",
            "           0       0.99      1.00      1.00      1972\n",
            "           1       1.00      0.99      0.99      2245\n",
            "           2       0.98      0.99      0.98      1984\n",
            "           3       0.98      0.97      0.98      2042\n",
            "           4       0.99      0.99      0.99      1946\n",
            "           5       0.98      0.98      0.98      1805\n",
            "           6       0.98      0.99      0.99      1971\n",
            "           7       0.98      0.99      0.99      2086\n",
            "           8       0.97      0.98      0.98      1948\n",
            "           9       0.99      0.98      0.98      1981\n",
            "\n",
            "    accuracy                           0.99     19980\n",
            "   macro avg       0.99      0.99      0.99     19980\n",
            "weighted avg       0.99      0.99      0.99     19980\n",
            "\n"
          ]
        }
      ]
    },
    {
      "cell_type": "markdown",
      "source": [
        "###Evaluation\n",
        "\n",
        "Using the default parameters with Random Forest we were able to get a good accuracy score for our model. It doesn't seem our Training test is overfitting. The confusion matrix shows that the predicted value is high."
      ],
      "metadata": {
        "id": "tnZ4aJpSqUgC"
      }
    },
    {
      "cell_type": "markdown",
      "source": [
        "###Random Forest Hyperparameter Tuning"
      ],
      "metadata": {
        "id": "X2w5DauSl8U0"
      }
    },
    {
      "cell_type": "code",
      "source": [
        "#Number of tress in random forest\n",
        "n_estimators = np.arange(10,210,10)\n",
        "# Number of features to consider at every split\n",
        "max_features=['auto','sqrt']\n",
        "# Maximum number of levels in tree\n",
        "max_depth = np.arange(10,60,10)\n",
        "# Mininum number of samples requried to split a node\n",
        "min_samples_split = np.arange(1,11,1)\n",
        "# Minimum number of samples required at each leaf node\n",
        "min_samples_leaf = np.arange(1,11,1)\n",
        "# Method of selecting samples for training each tree\n",
        "bootstrap = [True,False]"
      ],
      "metadata": {
        "id": "AeUtpCbpw4z2"
      },
      "execution_count": null,
      "outputs": []
    },
    {
      "cell_type": "code",
      "source": [
        "#Create param grid\n",
        "\n",
        "param_grid = {'n_estimators' :n_estimators,\n",
        "              'max_features' :max_features,\n",
        "              'max_depth' :max_depth,\n",
        "              'min_samples_split' :min_samples_split,\n",
        "              'min_samples_leaf' :min_samples_leaf,\n",
        "              'bootstrap' :bootstrap}\n",
        "print(param_grid)"
      ],
      "metadata": {
        "colab": {
          "base_uri": "https://localhost:8080/"
        },
        "id": "2OgJ5Ct3b54d",
        "outputId": "4b64c4c9-1875-4492-c12b-a8b2d9af83d5"
      },
      "execution_count": null,
      "outputs": [
        {
          "output_type": "stream",
          "name": "stdout",
          "text": [
            "{'n_estimators': array([ 10,  20,  30,  40,  50,  60,  70,  80,  90, 100, 110, 120, 130,\n",
            "       140, 150, 160, 170, 180, 190, 200]), 'max_features': ['auto', 'sqrt'], 'max_depth': array([10, 20, 30, 40, 50]), 'min_samples_split': array([ 1,  2,  3,  4,  5,  6,  7,  8,  9, 10]), 'min_samples_leaf': array([ 1,  2,  3,  4,  5,  6,  7,  8,  9, 10]), 'bootstrap': [True, False]}\n"
          ]
        }
      ]
    },
    {
      "cell_type": "code",
      "source": [
        "rf_model = RandomForestClassifier()"
      ],
      "metadata": {
        "id": "gwAXDbD6dSAM"
      },
      "execution_count": null,
      "outputs": []
    },
    {
      "cell_type": "markdown",
      "source": [
        "###GridSearchCV find the the best hyperparamter"
      ],
      "metadata": {
        "id": "IYJ0vo_gVPlU"
      }
    },
    {
      "cell_type": "code",
      "source": [
        "from sklearn.model_selection import GridSearchCV\n",
        "rf_Grid = GridSearchCV(estimator = rf_model, param_grid = param_grid, cv = 5, verbose = 2, n_jobs = 4)"
      ],
      "metadata": {
        "id": "L-RLNMScdWTE"
      },
      "execution_count": null,
      "outputs": []
    },
    {
      "cell_type": "code",
      "source": [
        "rf_Grid.fit(X_train,y_train)"
      ],
      "metadata": {
        "id": "77VRkBsmdnAE"
      },
      "execution_count": null,
      "outputs": []
    },
    {
      "cell_type": "code",
      "source": [
        "rf_Grid.best_params_"
      ],
      "metadata": {
        "id": "8nLkkI_XduRb"
      },
      "execution_count": null,
      "outputs": []
    },
    {
      "cell_type": "markdown",
      "source": [
        "####Important\n",
        "The GridSearchCV is taking way to long to compile I have it running for 3 hours but it is still going it had to do Fitting 5 folds for each of 40000 candidates, totalling 200000 fits. So I decided to use another way for tuning"
      ],
      "metadata": {
        "id": "6eQJbCGyV4_E"
      }
    },
    {
      "cell_type": "markdown",
      "source": [
        "###Randomized Search CV"
      ],
      "metadata": {
        "id": "SBBPqjcNet-Y"
      }
    },
    {
      "cell_type": "code",
      "source": [
        "from sklearn.model_selection import RandomizedSearchCV\n",
        "rf_RandomGrid = RandomizedSearchCV(estimator = rf_model, param_distributions = param_grid, cv = 10, verbose = 2, n_jobs = 4)"
      ],
      "metadata": {
        "id": "CJpH8ryYdyV1"
      },
      "execution_count": null,
      "outputs": []
    },
    {
      "cell_type": "code",
      "source": [
        "rf_RandomGrid.fit(X_train, y_train)"
      ],
      "metadata": {
        "colab": {
          "base_uri": "https://localhost:8080/"
        },
        "id": "jE7Y0-yIe6qq",
        "outputId": "f6dc40ac-1fab-4dda-b56c-a54151a0309f"
      },
      "execution_count": null,
      "outputs": [
        {
          "output_type": "stream",
          "name": "stdout",
          "text": [
            "Fitting 10 folds for each of 10 candidates, totalling 100 fits\n"
          ]
        },
        {
          "output_type": "stream",
          "name": "stderr",
          "text": [
            "/usr/local/lib/python3.7/dist-packages/sklearn/model_selection/_validation.py:372: FitFailedWarning: \n",
            "10 fits failed out of a total of 100.\n",
            "The score on these train-test partitions for these parameters will be set to nan.\n",
            "If these failures are not expected, you can try to debug them by setting error_score='raise'.\n",
            "\n",
            "Below are more details about the failures:\n",
            "--------------------------------------------------------------------------------\n",
            "10 fits failed with the following error:\n",
            "Traceback (most recent call last):\n",
            "  File \"/usr/local/lib/python3.7/dist-packages/sklearn/model_selection/_validation.py\", line 680, in _fit_and_score\n",
            "    estimator.fit(X_train, y_train, **fit_params)\n",
            "  File \"/usr/local/lib/python3.7/dist-packages/sklearn/ensemble/_forest.py\", line 467, in fit\n",
            "    for i, t in enumerate(trees)\n",
            "  File \"/usr/local/lib/python3.7/dist-packages/joblib/parallel.py\", line 1043, in __call__\n",
            "    if self.dispatch_one_batch(iterator):\n",
            "  File \"/usr/local/lib/python3.7/dist-packages/joblib/parallel.py\", line 861, in dispatch_one_batch\n",
            "    self._dispatch(tasks)\n",
            "  File \"/usr/local/lib/python3.7/dist-packages/joblib/parallel.py\", line 779, in _dispatch\n",
            "    job = self._backend.apply_async(batch, callback=cb)\n",
            "  File \"/usr/local/lib/python3.7/dist-packages/joblib/_parallel_backends.py\", line 208, in apply_async\n",
            "    result = ImmediateResult(func)\n",
            "  File \"/usr/local/lib/python3.7/dist-packages/joblib/_parallel_backends.py\", line 572, in __init__\n",
            "    self.results = batch()\n",
            "  File \"/usr/local/lib/python3.7/dist-packages/joblib/parallel.py\", line 263, in __call__\n",
            "    for func, args, kwargs in self.items]\n",
            "  File \"/usr/local/lib/python3.7/dist-packages/joblib/parallel.py\", line 263, in <listcomp>\n",
            "    for func, args, kwargs in self.items]\n",
            "  File \"/usr/local/lib/python3.7/dist-packages/sklearn/utils/fixes.py\", line 216, in __call__\n",
            "    return self.function(*args, **kwargs)\n",
            "  File \"/usr/local/lib/python3.7/dist-packages/sklearn/ensemble/_forest.py\", line 185, in _parallel_build_trees\n",
            "    tree.fit(X, y, sample_weight=curr_sample_weight, check_input=False)\n",
            "  File \"/usr/local/lib/python3.7/dist-packages/sklearn/tree/_classes.py\", line 942, in fit\n",
            "    X_idx_sorted=X_idx_sorted,\n",
            "  File \"/usr/local/lib/python3.7/dist-packages/sklearn/tree/_classes.py\", line 254, in fit\n",
            "    % self.min_samples_split\n",
            "ValueError: min_samples_split must be an integer greater than 1 or a float in (0.0, 1.0]; got the integer 1\n",
            "\n",
            "  warnings.warn(some_fits_failed_message, FitFailedWarning)\n",
            "/usr/local/lib/python3.7/dist-packages/sklearn/model_selection/_search.py:972: UserWarning: One or more of the test scores are non-finite: [0.9657664  0.97131374 0.9764613  0.97773569        nan 0.97733591\n",
            " 0.97958482 0.98333298 0.9801845  0.9712887 ]\n",
            "  category=UserWarning,\n"
          ]
        },
        {
          "output_type": "execute_result",
          "data": {
            "text/plain": [
              "RandomizedSearchCV(cv=10, estimator=RandomForestClassifier(), n_jobs=4,\n",
              "                   param_distributions={'bootstrap': [True, False],\n",
              "                                        'max_depth': array([10, 20, 30, 40, 50]),\n",
              "                                        'max_features': ['auto', 'sqrt'],\n",
              "                                        'min_samples_leaf': array([ 1,  2,  3,  4,  5,  6,  7,  8,  9, 10]),\n",
              "                                        'min_samples_split': array([ 1,  2,  3,  4,  5,  6,  7,  8,  9, 10]),\n",
              "                                        'n_estimators': array([ 10,  20,  30,  40,  50,  60,  70,  80,  90, 100, 110, 120, 130,\n",
              "       140, 150, 160, 170, 180, 190, 200])},\n",
              "                   verbose=2)"
            ]
          },
          "metadata": {},
          "execution_count": 64
        }
      ]
    },
    {
      "cell_type": "markdown",
      "source": [
        "Fitting 10 folds for each of 10 candidates, totalling 100 fits. "
      ],
      "metadata": {
        "id": "yC4ATepcXn64"
      }
    },
    {
      "cell_type": "code",
      "source": [
        "rf_RandomGrid.best_params_"
      ],
      "metadata": {
        "colab": {
          "base_uri": "https://localhost:8080/"
        },
        "id": "ytwPvgjPe-F-",
        "outputId": "055dfac2-7002-4e9c-ae43-b63d9716c4f0"
      },
      "execution_count": null,
      "outputs": [
        {
          "output_type": "execute_result",
          "data": {
            "text/plain": [
              "{'bootstrap': False,\n",
              " 'max_depth': 50,\n",
              " 'max_features': 'sqrt',\n",
              " 'min_samples_leaf': 3,\n",
              " 'min_samples_split': 7,\n",
              " 'n_estimators': 110}"
            ]
          },
          "metadata": {},
          "execution_count": 66
        }
      ]
    },
    {
      "cell_type": "code",
      "source": [
        "model = RandomForestClassifier(n_estimators = 110, max_features = 'sqrt',bootstrap = False, max_depth = 50, min_samples_leaf = 3, min_samples_split = 7)\n",
        "model.fit(X_train, y_train)"
      ],
      "metadata": {
        "colab": {
          "base_uri": "https://localhost:8080/"
        },
        "id": "xpZtEwV6uoy2",
        "outputId": "a17d432c-a209-41f0-a09d-5d74e8a9b57e"
      },
      "execution_count": null,
      "outputs": [
        {
          "output_type": "execute_result",
          "data": {
            "text/plain": [
              "RandomForestClassifier(bootstrap=False, max_depth=50, max_features='sqrt',\n",
              "                       min_samples_leaf=3, min_samples_split=7,\n",
              "                       n_estimators=110)"
            ]
          },
          "metadata": {},
          "execution_count": 89
        }
      ]
    },
    {
      "cell_type": "code",
      "source": [
        "model.score(X_test, y_test)"
      ],
      "metadata": {
        "colab": {
          "base_uri": "https://localhost:8080/"
        },
        "id": "jVV5Xiaju1Uc",
        "outputId": "9550a544-8113-4e35-9431-b7d2840d69da"
      },
      "execution_count": null,
      "outputs": [
        {
          "output_type": "execute_result",
          "data": {
            "text/plain": [
              "0.9853853853853853"
            ]
          },
          "metadata": {},
          "execution_count": 90
        }
      ]
    },
    {
      "cell_type": "code",
      "source": [
        "train_accuracy_hyper_params = model.score(X_train, y_train)\n",
        "test_accuracy_hyper_params = model.score(X_test, y_test)\n",
        "print(f'Train Accuracy - : {train_accuracy_hyper_params:.3f}')\n",
        "print(f'Test Accuracy - : {test_accuracy_hyper_params:.3f}')"
      ],
      "metadata": {
        "colab": {
          "base_uri": "https://localhost:8080/"
        },
        "id": "DmEVZBiUebb2",
        "outputId": "56c7f096-c673-4a82-cc0d-aa3ad0629a9d"
      },
      "execution_count": null,
      "outputs": [
        {
          "output_type": "stream",
          "name": "stdout",
          "text": [
            "Train Accuracy - : 1.000\n",
            "Test Accuracy - : 0.985\n"
          ]
        }
      ]
    },
    {
      "cell_type": "code",
      "source": [
        "y_predicted = model.predict(X_test)\n",
        "from sklearn.metrics import confusion_matrix\n",
        "cm = confusion_matrix(y_test, y_predicted)\n",
        "cm"
      ],
      "metadata": {
        "colab": {
          "base_uri": "https://localhost:8080/"
        },
        "id": "cNOpXM6XvYDw",
        "outputId": "c53e54ea-4cdb-41f5-fd74-f53ac2a2e6d8"
      },
      "execution_count": null,
      "outputs": [
        {
          "output_type": "execute_result",
          "data": {
            "text/plain": [
              "array([[1962,    0,    3,    0,    3,    0,    0,    0,    4,    0],\n",
              "       [   0, 2221,   11,    4,    4,    0,    0,    2,    3,    0],\n",
              "       [   4,    0, 1956,    8,    4,    0,    2,    5,    5,    0],\n",
              "       [   0,    1,   22, 1985,    1,    6,    0,   13,    9,    5],\n",
              "       [   1,    4,    2,    0, 1918,    0,    8,    4,    4,    5],\n",
              "       [   1,    0,    1,   13,    3, 1766,   11,    2,    5,    3],\n",
              "       [   0,    1,    0,    0,    2,   15, 1951,    0,    2,    0],\n",
              "       [   1,    3,    6,    2,    2,    0,    0, 2063,    2,    7],\n",
              "       [   0,    1,    1,    8,    4,    7,    4,    1, 1919,    3],\n",
              "       [   1,    0,    0,    3,    2,    3,    0,   12,   13, 1947]])"
            ]
          },
          "metadata": {},
          "execution_count": 92
        }
      ]
    },
    {
      "cell_type": "code",
      "source": [
        "from sklearn.metrics import classification_report\n",
        "# View the classification report for test data and predictions\n",
        "print(classification_report(y_test, y_predicted))"
      ],
      "metadata": {
        "colab": {
          "base_uri": "https://localhost:8080/"
        },
        "id": "73nrMheaverZ",
        "outputId": "c7926508-525b-4562-9a91-7ead5d3307b9"
      },
      "execution_count": null,
      "outputs": [
        {
          "output_type": "stream",
          "name": "stdout",
          "text": [
            "              precision    recall  f1-score   support\n",
            "\n",
            "           0       1.00      0.99      1.00      1972\n",
            "           1       1.00      0.99      0.99      2245\n",
            "           2       0.98      0.99      0.98      1984\n",
            "           3       0.98      0.97      0.98      2042\n",
            "           4       0.99      0.99      0.99      1946\n",
            "           5       0.98      0.98      0.98      1805\n",
            "           6       0.99      0.99      0.99      1971\n",
            "           7       0.98      0.99      0.99      2086\n",
            "           8       0.98      0.99      0.98      1948\n",
            "           9       0.99      0.98      0.99      1981\n",
            "\n",
            "    accuracy                           0.99     19980\n",
            "   macro avg       0.99      0.99      0.99     19980\n",
            "weighted avg       0.99      0.99      0.99     19980\n",
            "\n"
          ]
        }
      ]
    },
    {
      "cell_type": "markdown",
      "source": [
        "###Cross Validation"
      ],
      "metadata": {
        "id": "TSxsrjK9hG9y"
      }
    },
    {
      "cell_type": "code",
      "source": [
        "from sklearn.model_selection import cross_val_score"
      ],
      "metadata": {
        "id": "StziVsijhGs_"
      },
      "execution_count": null,
      "outputs": []
    },
    {
      "cell_type": "code",
      "source": [
        "k = cross_val_score(RandomForestClassifier(), X_train, y_train)"
      ],
      "metadata": {
        "id": "fb0mLtt8hVK0"
      },
      "execution_count": null,
      "outputs": []
    },
    {
      "cell_type": "code",
      "source": [
        "cvs_score  = k.mean()\n",
        "cvs_std  = k.std()"
      ],
      "metadata": {
        "id": "Bg7jqxRNhnbi"
      },
      "execution_count": null,
      "outputs": []
    },
    {
      "cell_type": "code",
      "source": [
        "from sklearn.metrics import classification_report\n",
        "# View the classification report for test data and predictions\n",
        "print(classification_report(y_test, y_predicted))"
      ],
      "metadata": {
        "colab": {
          "base_uri": "https://localhost:8080/"
        },
        "id": "MA5vG4m0iE_D",
        "outputId": "58702310-f42a-464e-bdc9-03b115b0ee0f"
      },
      "execution_count": null,
      "outputs": [
        {
          "output_type": "stream",
          "name": "stdout",
          "text": [
            "              precision    recall  f1-score   support\n",
            "\n",
            "           0       1.00      0.99      1.00      1972\n",
            "           1       1.00      0.99      0.99      2245\n",
            "           2       0.98      0.99      0.98      1984\n",
            "           3       0.98      0.97      0.98      2042\n",
            "           4       0.99      0.99      0.99      1946\n",
            "           5       0.98      0.98      0.98      1805\n",
            "           6       0.99      0.99      0.99      1971\n",
            "           7       0.98      0.99      0.99      2086\n",
            "           8       0.98      0.99      0.98      1948\n",
            "           9       0.99      0.98      0.99      1981\n",
            "\n",
            "    accuracy                           0.99     19980\n",
            "   macro avg       0.99      0.99      0.99     19980\n",
            "weighted avg       0.99      0.99      0.99     19980\n",
            "\n"
          ]
        }
      ]
    },
    {
      "cell_type": "markdown",
      "source": [
        "###Evaluation\n",
        "Unlike GridSearchCV were it will take all the estimators and combination and do a number of folds, The time it will take to find the best model will depend on how many estimators and combination and folds you have.\n",
        "\n",
        "While Randomized Search CV it will go through random parameter combination and it will have significantly lower combination to run through to find the best model which is I think is better because Google Colab has a limit on how long you can run you notebook hence using Randomized Search CV in this situation is a better choice."
      ],
      "metadata": {
        "id": "gp2e7BJXXgvU"
      }
    },
    {
      "cell_type": "code",
      "source": [
        "test_outcome = {'Model':['Random Forest Default Parameters', 'Random Forest Hypertuning','Random Forest Cross Validation'],\n",
        "                'Train Accuracy': [train_accuracy_default_params,train_accuracy_hyper_params,train_accuracy_hyper_params],\n",
        "                'Test Accuracy': [test_accuracy_default_params,test_accuracy_hyper_params,cvs_score ],\n",
        "                }"
      ],
      "metadata": {
        "id": "P9u9s8IsiQCJ"
      },
      "execution_count": null,
      "outputs": []
    },
    {
      "cell_type": "code",
      "source": [
        "pd.DataFrame(test_outcome)"
      ],
      "metadata": {
        "colab": {
          "base_uri": "https://localhost:8080/",
          "height": 143
        },
        "id": "f8nAvkb6jYYK",
        "outputId": "11fa11b3-06d1-41b0-b836-b506d5fbb611"
      },
      "execution_count": null,
      "outputs": [
        {
          "output_type": "execute_result",
          "data": {
            "text/plain": [
              "                              Model  Train Accuracy  Test Accuracy\n",
              "0  Random Forest Default Parameters        1.000000       0.985536\n",
              "1         Random Forest Hypertuning        0.999925       0.985385\n",
              "2    Random Forest Cross Validation        0.999925       0.982433"
            ],
            "text/html": [
              "\n",
              "  <div id=\"df-b6b0aeb8-59fa-4d46-95e0-48814e43f6fe\">\n",
              "    <div class=\"colab-df-container\">\n",
              "      <div>\n",
              "<style scoped>\n",
              "    .dataframe tbody tr th:only-of-type {\n",
              "        vertical-align: middle;\n",
              "    }\n",
              "\n",
              "    .dataframe tbody tr th {\n",
              "        vertical-align: top;\n",
              "    }\n",
              "\n",
              "    .dataframe thead th {\n",
              "        text-align: right;\n",
              "    }\n",
              "</style>\n",
              "<table border=\"1\" class=\"dataframe\">\n",
              "  <thead>\n",
              "    <tr style=\"text-align: right;\">\n",
              "      <th></th>\n",
              "      <th>Model</th>\n",
              "      <th>Train Accuracy</th>\n",
              "      <th>Test Accuracy</th>\n",
              "    </tr>\n",
              "  </thead>\n",
              "  <tbody>\n",
              "    <tr>\n",
              "      <th>0</th>\n",
              "      <td>Random Forest Default Parameters</td>\n",
              "      <td>1.000000</td>\n",
              "      <td>0.985536</td>\n",
              "    </tr>\n",
              "    <tr>\n",
              "      <th>1</th>\n",
              "      <td>Random Forest Hypertuning</td>\n",
              "      <td>0.999925</td>\n",
              "      <td>0.985385</td>\n",
              "    </tr>\n",
              "    <tr>\n",
              "      <th>2</th>\n",
              "      <td>Random Forest Cross Validation</td>\n",
              "      <td>0.999925</td>\n",
              "      <td>0.982433</td>\n",
              "    </tr>\n",
              "  </tbody>\n",
              "</table>\n",
              "</div>\n",
              "      <button class=\"colab-df-convert\" onclick=\"convertToInteractive('df-b6b0aeb8-59fa-4d46-95e0-48814e43f6fe')\"\n",
              "              title=\"Convert this dataframe to an interactive table.\"\n",
              "              style=\"display:none;\">\n",
              "        \n",
              "  <svg xmlns=\"http://www.w3.org/2000/svg\" height=\"24px\"viewBox=\"0 0 24 24\"\n",
              "       width=\"24px\">\n",
              "    <path d=\"M0 0h24v24H0V0z\" fill=\"none\"/>\n",
              "    <path d=\"M18.56 5.44l.94 2.06.94-2.06 2.06-.94-2.06-.94-.94-2.06-.94 2.06-2.06.94zm-11 1L8.5 8.5l.94-2.06 2.06-.94-2.06-.94L8.5 2.5l-.94 2.06-2.06.94zm10 10l.94 2.06.94-2.06 2.06-.94-2.06-.94-.94-2.06-.94 2.06-2.06.94z\"/><path d=\"M17.41 7.96l-1.37-1.37c-.4-.4-.92-.59-1.43-.59-.52 0-1.04.2-1.43.59L10.3 9.45l-7.72 7.72c-.78.78-.78 2.05 0 2.83L4 21.41c.39.39.9.59 1.41.59.51 0 1.02-.2 1.41-.59l7.78-7.78 2.81-2.81c.8-.78.8-2.07 0-2.86zM5.41 20L4 18.59l7.72-7.72 1.47 1.35L5.41 20z\"/>\n",
              "  </svg>\n",
              "      </button>\n",
              "      \n",
              "  <style>\n",
              "    .colab-df-container {\n",
              "      display:flex;\n",
              "      flex-wrap:wrap;\n",
              "      gap: 12px;\n",
              "    }\n",
              "\n",
              "    .colab-df-convert {\n",
              "      background-color: #E8F0FE;\n",
              "      border: none;\n",
              "      border-radius: 50%;\n",
              "      cursor: pointer;\n",
              "      display: none;\n",
              "      fill: #1967D2;\n",
              "      height: 32px;\n",
              "      padding: 0 0 0 0;\n",
              "      width: 32px;\n",
              "    }\n",
              "\n",
              "    .colab-df-convert:hover {\n",
              "      background-color: #E2EBFA;\n",
              "      box-shadow: 0px 1px 2px rgba(60, 64, 67, 0.3), 0px 1px 3px 1px rgba(60, 64, 67, 0.15);\n",
              "      fill: #174EA6;\n",
              "    }\n",
              "\n",
              "    [theme=dark] .colab-df-convert {\n",
              "      background-color: #3B4455;\n",
              "      fill: #D2E3FC;\n",
              "    }\n",
              "\n",
              "    [theme=dark] .colab-df-convert:hover {\n",
              "      background-color: #434B5C;\n",
              "      box-shadow: 0px 1px 3px 1px rgba(0, 0, 0, 0.15);\n",
              "      filter: drop-shadow(0px 1px 2px rgba(0, 0, 0, 0.3));\n",
              "      fill: #FFFFFF;\n",
              "    }\n",
              "  </style>\n",
              "\n",
              "      <script>\n",
              "        const buttonEl =\n",
              "          document.querySelector('#df-b6b0aeb8-59fa-4d46-95e0-48814e43f6fe button.colab-df-convert');\n",
              "        buttonEl.style.display =\n",
              "          google.colab.kernel.accessAllowed ? 'block' : 'none';\n",
              "\n",
              "        async function convertToInteractive(key) {\n",
              "          const element = document.querySelector('#df-b6b0aeb8-59fa-4d46-95e0-48814e43f6fe');\n",
              "          const dataTable =\n",
              "            await google.colab.kernel.invokeFunction('convertToInteractive',\n",
              "                                                     [key], {});\n",
              "          if (!dataTable) return;\n",
              "\n",
              "          const docLinkHtml = 'Like what you see? Visit the ' +\n",
              "            '<a target=\"_blank\" href=https://colab.research.google.com/notebooks/data_table.ipynb>data table notebook</a>'\n",
              "            + ' to learn more about interactive tables.';\n",
              "          element.innerHTML = '';\n",
              "          dataTable['output_type'] = 'display_data';\n",
              "          await google.colab.output.renderOutput(dataTable, element);\n",
              "          const docLink = document.createElement('div');\n",
              "          docLink.innerHTML = docLinkHtml;\n",
              "          element.appendChild(docLink);\n",
              "        }\n",
              "      </script>\n",
              "    </div>\n",
              "  </div>\n",
              "  "
            ]
          },
          "metadata": {},
          "execution_count": 99
        }
      ]
    },
    {
      "cell_type": "markdown",
      "source": [
        "As you can see in the table there isn't much difference when it comes to the outcome. With the default parameters I was still able to get a good score of my test and the same thing can be said by the other model that was used.\n",
        "\n",
        "The default parameter did well compared to the other 2 probably fine tuning the parameters will get us a better result\n",
        "\n",
        "Did the training overfit? I dont believe it did the training score and test score shows this and we can also see it in the classification report. \n",
        "\n",
        "Based in my understanding the RandomForest uses multiple decision tree and takes a majority vote which in turn creates a low variance so  thats why our training score is very close witht the test score."
      ],
      "metadata": {
        "id": "HM71LM3djton"
      }
    },
    {
      "cell_type": "markdown",
      "source": [
        "##Decision Tree"
      ],
      "metadata": {
        "id": "uWaUVO55GQCL"
      }
    },
    {
      "cell_type": "code",
      "source": [
        "%matplotlib inline\n",
        "import matplotlib.pyplot as plt\n",
        "import pandas as pd\n",
        "import numpy as np\n",
        "\n",
        "df_test = pd.read_csv(\"/content/mnist_test.csv\")\n",
        "df_train = pd.read_csv(\"/content/mnist_train.csv\")"
      ],
      "metadata": {
        "id": "hIi-AXRsGSpZ"
      },
      "execution_count": null,
      "outputs": []
    },
    {
      "cell_type": "code",
      "source": [
        "df_data = df_train.iloc[:,1:]"
      ],
      "metadata": {
        "id": "jv3iARDyGuzy"
      },
      "execution_count": null,
      "outputs": []
    },
    {
      "cell_type": "code",
      "source": [
        "df_data.shape"
      ],
      "metadata": {
        "colab": {
          "base_uri": "https://localhost:8080/"
        },
        "id": "THVS6UhMG05x",
        "outputId": "77db1d8d-7d46-4b2e-c071-f0b50cc4cb67"
      },
      "execution_count": null,
      "outputs": [
        {
          "output_type": "execute_result",
          "data": {
            "text/plain": [
              "(59999, 784)"
            ]
          },
          "metadata": {},
          "execution_count": 23
        }
      ]
    },
    {
      "cell_type": "code",
      "source": [
        "df_data"
      ],
      "metadata": {
        "colab": {
          "base_uri": "https://localhost:8080/",
          "height": 424
        },
        "id": "5bw6FXg9HI95",
        "outputId": "86f2f972-f36e-43a7-9922-136448d61f95"
      },
      "execution_count": null,
      "outputs": [
        {
          "output_type": "execute_result",
          "data": {
            "text/plain": [
              "       0  0.1  0.2  0.3  0.4  0.5  0.6  0.7  0.8  0.9  ...  0.608  0.609  \\\n",
              "0      0    0    0    0    0    0    0    0    0    0  ...      0      0   \n",
              "1      0    0    0    0    0    0    0    0    0    0  ...      0      0   \n",
              "2      0    0    0    0    0    0    0    0    0    0  ...      0      0   \n",
              "3      0    0    0    0    0    0    0    0    0    0  ...      0      0   \n",
              "4      0    0    0    0    0    0    0    0    0    0  ...      0      0   \n",
              "...   ..  ...  ...  ...  ...  ...  ...  ...  ...  ...  ...    ...    ...   \n",
              "59994  0    0    0    0    0    0    0    0    0    0  ...      0      0   \n",
              "59995  0    0    0    0    0    0    0    0    0    0  ...      0      0   \n",
              "59996  0    0    0    0    0    0    0    0    0    0  ...      0      0   \n",
              "59997  0    0    0    0    0    0    0    0    0    0  ...      0      0   \n",
              "59998  0    0    0    0    0    0    0    0    0    0  ...      0      0   \n",
              "\n",
              "       0.610  0.611  0.612  0.613  0.614  0.615  0.616  0.617  \n",
              "0          0      0      0      0      0      0      0      0  \n",
              "1          0      0      0      0      0      0      0      0  \n",
              "2          0      0      0      0      0      0      0      0  \n",
              "3          0      0      0      0      0      0      0      0  \n",
              "4          0      0      0      0      0      0      0      0  \n",
              "...      ...    ...    ...    ...    ...    ...    ...    ...  \n",
              "59994      0      0      0      0      0      0      0      0  \n",
              "59995      0      0      0      0      0      0      0      0  \n",
              "59996      0      0      0      0      0      0      0      0  \n",
              "59997      0      0      0      0      0      0      0      0  \n",
              "59998      0      0      0      0      0      0      0      0  \n",
              "\n",
              "[59999 rows x 784 columns]"
            ],
            "text/html": [
              "\n",
              "  <div id=\"df-42b8a0d9-47e0-4ec9-b170-f48c1fe1c63f\">\n",
              "    <div class=\"colab-df-container\">\n",
              "      <div>\n",
              "<style scoped>\n",
              "    .dataframe tbody tr th:only-of-type {\n",
              "        vertical-align: middle;\n",
              "    }\n",
              "\n",
              "    .dataframe tbody tr th {\n",
              "        vertical-align: top;\n",
              "    }\n",
              "\n",
              "    .dataframe thead th {\n",
              "        text-align: right;\n",
              "    }\n",
              "</style>\n",
              "<table border=\"1\" class=\"dataframe\">\n",
              "  <thead>\n",
              "    <tr style=\"text-align: right;\">\n",
              "      <th></th>\n",
              "      <th>0</th>\n",
              "      <th>0.1</th>\n",
              "      <th>0.2</th>\n",
              "      <th>0.3</th>\n",
              "      <th>0.4</th>\n",
              "      <th>0.5</th>\n",
              "      <th>0.6</th>\n",
              "      <th>0.7</th>\n",
              "      <th>0.8</th>\n",
              "      <th>0.9</th>\n",
              "      <th>...</th>\n",
              "      <th>0.608</th>\n",
              "      <th>0.609</th>\n",
              "      <th>0.610</th>\n",
              "      <th>0.611</th>\n",
              "      <th>0.612</th>\n",
              "      <th>0.613</th>\n",
              "      <th>0.614</th>\n",
              "      <th>0.615</th>\n",
              "      <th>0.616</th>\n",
              "      <th>0.617</th>\n",
              "    </tr>\n",
              "  </thead>\n",
              "  <tbody>\n",
              "    <tr>\n",
              "      <th>0</th>\n",
              "      <td>0</td>\n",
              "      <td>0</td>\n",
              "      <td>0</td>\n",
              "      <td>0</td>\n",
              "      <td>0</td>\n",
              "      <td>0</td>\n",
              "      <td>0</td>\n",
              "      <td>0</td>\n",
              "      <td>0</td>\n",
              "      <td>0</td>\n",
              "      <td>...</td>\n",
              "      <td>0</td>\n",
              "      <td>0</td>\n",
              "      <td>0</td>\n",
              "      <td>0</td>\n",
              "      <td>0</td>\n",
              "      <td>0</td>\n",
              "      <td>0</td>\n",
              "      <td>0</td>\n",
              "      <td>0</td>\n",
              "      <td>0</td>\n",
              "    </tr>\n",
              "    <tr>\n",
              "      <th>1</th>\n",
              "      <td>0</td>\n",
              "      <td>0</td>\n",
              "      <td>0</td>\n",
              "      <td>0</td>\n",
              "      <td>0</td>\n",
              "      <td>0</td>\n",
              "      <td>0</td>\n",
              "      <td>0</td>\n",
              "      <td>0</td>\n",
              "      <td>0</td>\n",
              "      <td>...</td>\n",
              "      <td>0</td>\n",
              "      <td>0</td>\n",
              "      <td>0</td>\n",
              "      <td>0</td>\n",
              "      <td>0</td>\n",
              "      <td>0</td>\n",
              "      <td>0</td>\n",
              "      <td>0</td>\n",
              "      <td>0</td>\n",
              "      <td>0</td>\n",
              "    </tr>\n",
              "    <tr>\n",
              "      <th>2</th>\n",
              "      <td>0</td>\n",
              "      <td>0</td>\n",
              "      <td>0</td>\n",
              "      <td>0</td>\n",
              "      <td>0</td>\n",
              "      <td>0</td>\n",
              "      <td>0</td>\n",
              "      <td>0</td>\n",
              "      <td>0</td>\n",
              "      <td>0</td>\n",
              "      <td>...</td>\n",
              "      <td>0</td>\n",
              "      <td>0</td>\n",
              "      <td>0</td>\n",
              "      <td>0</td>\n",
              "      <td>0</td>\n",
              "      <td>0</td>\n",
              "      <td>0</td>\n",
              "      <td>0</td>\n",
              "      <td>0</td>\n",
              "      <td>0</td>\n",
              "    </tr>\n",
              "    <tr>\n",
              "      <th>3</th>\n",
              "      <td>0</td>\n",
              "      <td>0</td>\n",
              "      <td>0</td>\n",
              "      <td>0</td>\n",
              "      <td>0</td>\n",
              "      <td>0</td>\n",
              "      <td>0</td>\n",
              "      <td>0</td>\n",
              "      <td>0</td>\n",
              "      <td>0</td>\n",
              "      <td>...</td>\n",
              "      <td>0</td>\n",
              "      <td>0</td>\n",
              "      <td>0</td>\n",
              "      <td>0</td>\n",
              "      <td>0</td>\n",
              "      <td>0</td>\n",
              "      <td>0</td>\n",
              "      <td>0</td>\n",
              "      <td>0</td>\n",
              "      <td>0</td>\n",
              "    </tr>\n",
              "    <tr>\n",
              "      <th>4</th>\n",
              "      <td>0</td>\n",
              "      <td>0</td>\n",
              "      <td>0</td>\n",
              "      <td>0</td>\n",
              "      <td>0</td>\n",
              "      <td>0</td>\n",
              "      <td>0</td>\n",
              "      <td>0</td>\n",
              "      <td>0</td>\n",
              "      <td>0</td>\n",
              "      <td>...</td>\n",
              "      <td>0</td>\n",
              "      <td>0</td>\n",
              "      <td>0</td>\n",
              "      <td>0</td>\n",
              "      <td>0</td>\n",
              "      <td>0</td>\n",
              "      <td>0</td>\n",
              "      <td>0</td>\n",
              "      <td>0</td>\n",
              "      <td>0</td>\n",
              "    </tr>\n",
              "    <tr>\n",
              "      <th>...</th>\n",
              "      <td>...</td>\n",
              "      <td>...</td>\n",
              "      <td>...</td>\n",
              "      <td>...</td>\n",
              "      <td>...</td>\n",
              "      <td>...</td>\n",
              "      <td>...</td>\n",
              "      <td>...</td>\n",
              "      <td>...</td>\n",
              "      <td>...</td>\n",
              "      <td>...</td>\n",
              "      <td>...</td>\n",
              "      <td>...</td>\n",
              "      <td>...</td>\n",
              "      <td>...</td>\n",
              "      <td>...</td>\n",
              "      <td>...</td>\n",
              "      <td>...</td>\n",
              "      <td>...</td>\n",
              "      <td>...</td>\n",
              "      <td>...</td>\n",
              "    </tr>\n",
              "    <tr>\n",
              "      <th>59994</th>\n",
              "      <td>0</td>\n",
              "      <td>0</td>\n",
              "      <td>0</td>\n",
              "      <td>0</td>\n",
              "      <td>0</td>\n",
              "      <td>0</td>\n",
              "      <td>0</td>\n",
              "      <td>0</td>\n",
              "      <td>0</td>\n",
              "      <td>0</td>\n",
              "      <td>...</td>\n",
              "      <td>0</td>\n",
              "      <td>0</td>\n",
              "      <td>0</td>\n",
              "      <td>0</td>\n",
              "      <td>0</td>\n",
              "      <td>0</td>\n",
              "      <td>0</td>\n",
              "      <td>0</td>\n",
              "      <td>0</td>\n",
              "      <td>0</td>\n",
              "    </tr>\n",
              "    <tr>\n",
              "      <th>59995</th>\n",
              "      <td>0</td>\n",
              "      <td>0</td>\n",
              "      <td>0</td>\n",
              "      <td>0</td>\n",
              "      <td>0</td>\n",
              "      <td>0</td>\n",
              "      <td>0</td>\n",
              "      <td>0</td>\n",
              "      <td>0</td>\n",
              "      <td>0</td>\n",
              "      <td>...</td>\n",
              "      <td>0</td>\n",
              "      <td>0</td>\n",
              "      <td>0</td>\n",
              "      <td>0</td>\n",
              "      <td>0</td>\n",
              "      <td>0</td>\n",
              "      <td>0</td>\n",
              "      <td>0</td>\n",
              "      <td>0</td>\n",
              "      <td>0</td>\n",
              "    </tr>\n",
              "    <tr>\n",
              "      <th>59996</th>\n",
              "      <td>0</td>\n",
              "      <td>0</td>\n",
              "      <td>0</td>\n",
              "      <td>0</td>\n",
              "      <td>0</td>\n",
              "      <td>0</td>\n",
              "      <td>0</td>\n",
              "      <td>0</td>\n",
              "      <td>0</td>\n",
              "      <td>0</td>\n",
              "      <td>...</td>\n",
              "      <td>0</td>\n",
              "      <td>0</td>\n",
              "      <td>0</td>\n",
              "      <td>0</td>\n",
              "      <td>0</td>\n",
              "      <td>0</td>\n",
              "      <td>0</td>\n",
              "      <td>0</td>\n",
              "      <td>0</td>\n",
              "      <td>0</td>\n",
              "    </tr>\n",
              "    <tr>\n",
              "      <th>59997</th>\n",
              "      <td>0</td>\n",
              "      <td>0</td>\n",
              "      <td>0</td>\n",
              "      <td>0</td>\n",
              "      <td>0</td>\n",
              "      <td>0</td>\n",
              "      <td>0</td>\n",
              "      <td>0</td>\n",
              "      <td>0</td>\n",
              "      <td>0</td>\n",
              "      <td>...</td>\n",
              "      <td>0</td>\n",
              "      <td>0</td>\n",
              "      <td>0</td>\n",
              "      <td>0</td>\n",
              "      <td>0</td>\n",
              "      <td>0</td>\n",
              "      <td>0</td>\n",
              "      <td>0</td>\n",
              "      <td>0</td>\n",
              "      <td>0</td>\n",
              "    </tr>\n",
              "    <tr>\n",
              "      <th>59998</th>\n",
              "      <td>0</td>\n",
              "      <td>0</td>\n",
              "      <td>0</td>\n",
              "      <td>0</td>\n",
              "      <td>0</td>\n",
              "      <td>0</td>\n",
              "      <td>0</td>\n",
              "      <td>0</td>\n",
              "      <td>0</td>\n",
              "      <td>0</td>\n",
              "      <td>...</td>\n",
              "      <td>0</td>\n",
              "      <td>0</td>\n",
              "      <td>0</td>\n",
              "      <td>0</td>\n",
              "      <td>0</td>\n",
              "      <td>0</td>\n",
              "      <td>0</td>\n",
              "      <td>0</td>\n",
              "      <td>0</td>\n",
              "      <td>0</td>\n",
              "    </tr>\n",
              "  </tbody>\n",
              "</table>\n",
              "<p>59999 rows × 784 columns</p>\n",
              "</div>\n",
              "      <button class=\"colab-df-convert\" onclick=\"convertToInteractive('df-42b8a0d9-47e0-4ec9-b170-f48c1fe1c63f')\"\n",
              "              title=\"Convert this dataframe to an interactive table.\"\n",
              "              style=\"display:none;\">\n",
              "        \n",
              "  <svg xmlns=\"http://www.w3.org/2000/svg\" height=\"24px\"viewBox=\"0 0 24 24\"\n",
              "       width=\"24px\">\n",
              "    <path d=\"M0 0h24v24H0V0z\" fill=\"none\"/>\n",
              "    <path d=\"M18.56 5.44l.94 2.06.94-2.06 2.06-.94-2.06-.94-.94-2.06-.94 2.06-2.06.94zm-11 1L8.5 8.5l.94-2.06 2.06-.94-2.06-.94L8.5 2.5l-.94 2.06-2.06.94zm10 10l.94 2.06.94-2.06 2.06-.94-2.06-.94-.94-2.06-.94 2.06-2.06.94z\"/><path d=\"M17.41 7.96l-1.37-1.37c-.4-.4-.92-.59-1.43-.59-.52 0-1.04.2-1.43.59L10.3 9.45l-7.72 7.72c-.78.78-.78 2.05 0 2.83L4 21.41c.39.39.9.59 1.41.59.51 0 1.02-.2 1.41-.59l7.78-7.78 2.81-2.81c.8-.78.8-2.07 0-2.86zM5.41 20L4 18.59l7.72-7.72 1.47 1.35L5.41 20z\"/>\n",
              "  </svg>\n",
              "      </button>\n",
              "      \n",
              "  <style>\n",
              "    .colab-df-container {\n",
              "      display:flex;\n",
              "      flex-wrap:wrap;\n",
              "      gap: 12px;\n",
              "    }\n",
              "\n",
              "    .colab-df-convert {\n",
              "      background-color: #E8F0FE;\n",
              "      border: none;\n",
              "      border-radius: 50%;\n",
              "      cursor: pointer;\n",
              "      display: none;\n",
              "      fill: #1967D2;\n",
              "      height: 32px;\n",
              "      padding: 0 0 0 0;\n",
              "      width: 32px;\n",
              "    }\n",
              "\n",
              "    .colab-df-convert:hover {\n",
              "      background-color: #E2EBFA;\n",
              "      box-shadow: 0px 1px 2px rgba(60, 64, 67, 0.3), 0px 1px 3px 1px rgba(60, 64, 67, 0.15);\n",
              "      fill: #174EA6;\n",
              "    }\n",
              "\n",
              "    [theme=dark] .colab-df-convert {\n",
              "      background-color: #3B4455;\n",
              "      fill: #D2E3FC;\n",
              "    }\n",
              "\n",
              "    [theme=dark] .colab-df-convert:hover {\n",
              "      background-color: #434B5C;\n",
              "      box-shadow: 0px 1px 3px 1px rgba(0, 0, 0, 0.15);\n",
              "      filter: drop-shadow(0px 1px 2px rgba(0, 0, 0, 0.3));\n",
              "      fill: #FFFFFF;\n",
              "    }\n",
              "  </style>\n",
              "\n",
              "      <script>\n",
              "        const buttonEl =\n",
              "          document.querySelector('#df-42b8a0d9-47e0-4ec9-b170-f48c1fe1c63f button.colab-df-convert');\n",
              "        buttonEl.style.display =\n",
              "          google.colab.kernel.accessAllowed ? 'block' : 'none';\n",
              "\n",
              "        async function convertToInteractive(key) {\n",
              "          const element = document.querySelector('#df-42b8a0d9-47e0-4ec9-b170-f48c1fe1c63f');\n",
              "          const dataTable =\n",
              "            await google.colab.kernel.invokeFunction('convertToInteractive',\n",
              "                                                     [key], {});\n",
              "          if (!dataTable) return;\n",
              "\n",
              "          const docLinkHtml = 'Like what you see? Visit the ' +\n",
              "            '<a target=\"_blank\" href=https://colab.research.google.com/notebooks/data_table.ipynb>data table notebook</a>'\n",
              "            + ' to learn more about interactive tables.';\n",
              "          element.innerHTML = '';\n",
              "          dataTable['output_type'] = 'display_data';\n",
              "          await google.colab.output.renderOutput(dataTable, element);\n",
              "          const docLink = document.createElement('div');\n",
              "          docLink.innerHTML = docLinkHtml;\n",
              "          element.appendChild(docLink);\n",
              "        }\n",
              "      </script>\n",
              "    </div>\n",
              "  </div>\n",
              "  "
            ]
          },
          "metadata": {},
          "execution_count": 24
        }
      ]
    },
    {
      "cell_type": "code",
      "source": [
        "df_label = df_train.iloc[:,0]"
      ],
      "metadata": {
        "id": "MQzE83GdHLeU"
      },
      "execution_count": null,
      "outputs": []
    },
    {
      "cell_type": "code",
      "source": [
        "df_label"
      ],
      "metadata": {
        "colab": {
          "base_uri": "https://localhost:8080/"
        },
        "id": "SdDlZOBYHtn3",
        "outputId": "334ded60-2f7f-45ac-faa2-578eb68f48bb"
      },
      "execution_count": null,
      "outputs": [
        {
          "output_type": "execute_result",
          "data": {
            "text/plain": [
              "0        0\n",
              "1        4\n",
              "2        1\n",
              "3        9\n",
              "4        2\n",
              "        ..\n",
              "59994    8\n",
              "59995    3\n",
              "59996    5\n",
              "59997    6\n",
              "59998    8\n",
              "Name: 5, Length: 59999, dtype: int64"
            ]
          },
          "metadata": {},
          "execution_count": 26
        }
      ]
    },
    {
      "cell_type": "code",
      "source": [
        "from sklearn.model_selection import train_test_split\n",
        "X_train, X_test, y_train, y_test = train_test_split(df_data, df_label, test_size = 0.333, random_state = 101,stratify =df_label)#"
      ],
      "metadata": {
        "id": "v2oFSrnWJjUX"
      },
      "execution_count": null,
      "outputs": []
    },
    {
      "cell_type": "code",
      "source": [
        "X_train.shape, X_test.shape"
      ],
      "metadata": {
        "colab": {
          "base_uri": "https://localhost:8080/"
        },
        "id": "t60l_Oe3J2A1",
        "outputId": "2f9c1ff0-a63c-4b4c-f956-cf9bcd55535d"
      },
      "execution_count": null,
      "outputs": [
        {
          "output_type": "execute_result",
          "data": {
            "text/plain": [
              "((40019, 784), (19980, 784))"
            ]
          },
          "metadata": {},
          "execution_count": 124
        }
      ]
    },
    {
      "cell_type": "code",
      "source": [
        "y_train.shape, y_test.shape"
      ],
      "metadata": {
        "colab": {
          "base_uri": "https://localhost:8080/"
        },
        "id": "PLmyFR_7J7tJ",
        "outputId": "7dec0888-9fb3-4a15-cd02-e6ba53a265a6"
      },
      "execution_count": null,
      "outputs": [
        {
          "output_type": "execute_result",
          "data": {
            "text/plain": [
              "((40019,), (19980,))"
            ]
          },
          "metadata": {},
          "execution_count": 125
        }
      ]
    },
    {
      "cell_type": "code",
      "source": [
        "from sklearn import tree"
      ],
      "metadata": {
        "id": "hqpvcWD2O7I_"
      },
      "execution_count": null,
      "outputs": []
    },
    {
      "cell_type": "code",
      "source": [
        "from sklearn.tree import DecisionTreeClassifier\n",
        "dt_model = DecisionTreeClassifier()"
      ],
      "metadata": {
        "id": "QXXGWzvzO9ic"
      },
      "execution_count": null,
      "outputs": []
    },
    {
      "cell_type": "code",
      "source": [
        "dt_model.fit(X_train,y_train)"
      ],
      "metadata": {
        "colab": {
          "base_uri": "https://localhost:8080/"
        },
        "id": "P9O5Nba3PCz1",
        "outputId": "284c2363-8230-4db7-8733-7d3045236b53"
      },
      "execution_count": null,
      "outputs": [
        {
          "output_type": "execute_result",
          "data": {
            "text/plain": [
              "DecisionTreeClassifier()"
            ]
          },
          "metadata": {},
          "execution_count": 30
        }
      ]
    },
    {
      "cell_type": "code",
      "source": [
        "dt_model.score(X_test,y_test)"
      ],
      "metadata": {
        "colab": {
          "base_uri": "https://localhost:8080/"
        },
        "id": "lck23sABIU0A",
        "outputId": "8d28cdbc-103e-44c5-8238-4d33e1194a84"
      },
      "execution_count": null,
      "outputs": [
        {
          "output_type": "execute_result",
          "data": {
            "text/plain": [
              "0.8582082082082082"
            ]
          },
          "metadata": {},
          "execution_count": 33
        }
      ]
    },
    {
      "cell_type": "markdown",
      "source": [
        "###Check the training if we are overfitting"
      ],
      "metadata": {
        "id": "8NIBfZ6vPVh9"
      }
    },
    {
      "cell_type": "code",
      "source": [
        "dt_train_accuracy_default_params = dt_model.score(X_train, y_train)\n",
        "dt_test_accuracy_default_params = dt_model.score(X_test, y_test)\n",
        "print(f'Train Accuracy - : {dt_train_accuracy_default_params:.3f}')\n",
        "print(f'Test Accuracy - : {dt_test_accuracy_default_params:.3f}')"
      ],
      "metadata": {
        "colab": {
          "base_uri": "https://localhost:8080/"
        },
        "id": "34L72UPaPQNm",
        "outputId": "51ad3844-29fa-4517-a7bd-d247c9a97d42"
      },
      "execution_count": null,
      "outputs": [
        {
          "output_type": "stream",
          "name": "stdout",
          "text": [
            "Train Accuracy - : 1.000\n",
            "Test Accuracy - : 0.858\n"
          ]
        }
      ]
    },
    {
      "cell_type": "markdown",
      "source": [
        "Training score is perfect as predicted but the test accuracy is far from desirable our model is overfitting."
      ],
      "metadata": {
        "id": "I9esC4I2PZle"
      }
    },
    {
      "cell_type": "markdown",
      "source": [
        "###Decision Tree Hyperparameter Tuning"
      ],
      "metadata": {
        "id": "dQ_MrZmuK1pe"
      }
    },
    {
      "cell_type": "code",
      "source": [
        "from sklearn.tree import DecisionTreeClassifier\n",
        "from sklearn.model_selection import RandomizedSearchCV"
      ],
      "metadata": {
        "id": "epwTsyf3LcVc"
      },
      "execution_count": null,
      "outputs": []
    },
    {
      "cell_type": "code",
      "source": [
        "parameters = {'max_depth': np.arange(10,210,10),\n",
        "              'criterion':('gini','entropy'),\n",
        "              'max_leaf_nodes':np.arange(1,11,1),\n",
        "              'max_features':('auto','sqrt','log2'),\n",
        "              'min_samples_split':(2,4,6,8)\n",
        "              }"
      ],
      "metadata": {
        "id": "LzQ3FlYUIo4V"
      },
      "execution_count": null,
      "outputs": []
    },
    {
      "cell_type": "code",
      "source": [
        "DT_grid = RandomizedSearchCV(DecisionTreeClassifier(),param_distributions = parameters, cv = 5, verbose = True)"
      ],
      "metadata": {
        "id": "6W4X0MMVLPh3"
      },
      "execution_count": null,
      "outputs": []
    },
    {
      "cell_type": "code",
      "source": [
        "DT_grid.fit(X_train,y_train)"
      ],
      "metadata": {
        "colab": {
          "base_uri": "https://localhost:8080/"
        },
        "id": "gnfHeo0dLqpi",
        "outputId": "e83a97d1-04a6-4451-e214-5243d41ea599"
      },
      "execution_count": null,
      "outputs": [
        {
          "output_type": "stream",
          "name": "stdout",
          "text": [
            "Fitting 5 folds for each of 10 candidates, totalling 50 fits\n"
          ]
        },
        {
          "output_type": "execute_result",
          "data": {
            "text/plain": [
              "RandomizedSearchCV(cv=5, estimator=DecisionTreeClassifier(),\n",
              "                   param_distributions={'criterion': ('gini', 'entropy'),\n",
              "                                        'max_depth': array([ 10,  20,  30,  40,  50,  60,  70,  80,  90, 100, 110, 120, 130,\n",
              "       140, 150, 160, 170, 180, 190, 200]),\n",
              "                                        'max_features': ('auto', 'sqrt',\n",
              "                                                         'log2'),\n",
              "                                        'max_leaf_nodes': array([ 1,  2,  3,  4,  5,  6,  7,  8,  9, 10]),\n",
              "                                        'min_samples_split': (2, 4, 6, 8)},\n",
              "                   verbose=True)"
            ]
          },
          "metadata": {},
          "execution_count": 142
        }
      ]
    },
    {
      "cell_type": "code",
      "source": [
        "DT_grid.best_estimator_"
      ],
      "metadata": {
        "colab": {
          "base_uri": "https://localhost:8080/"
        },
        "id": "UPU0boK3Lt_W",
        "outputId": "828a0b8b-ca1e-4393-f93c-30c9c4c9a55d"
      },
      "execution_count": null,
      "outputs": [
        {
          "output_type": "execute_result",
          "data": {
            "text/plain": [
              "DecisionTreeClassifier(max_depth=190, max_features='sqrt', max_leaf_nodes=9,\n",
              "                       min_samples_split=4)"
            ]
          },
          "metadata": {},
          "execution_count": 143
        }
      ]
    },
    {
      "cell_type": "markdown",
      "source": [
        "###Check Accuracy"
      ],
      "metadata": {
        "id": "bScjymK5Lx_v"
      }
    },
    {
      "cell_type": "code",
      "source": [
        "DT_Model = DecisionTreeClassifier(max_depth=190, max_features='sqrt', max_leaf_nodes=9,\n",
        "                       min_samples_split=4)"
      ],
      "metadata": {
        "id": "PJOA0RzWL1gD"
      },
      "execution_count": null,
      "outputs": []
    },
    {
      "cell_type": "code",
      "source": [
        "DT_Model.fit(X_train,y_train)"
      ],
      "metadata": {
        "colab": {
          "base_uri": "https://localhost:8080/"
        },
        "id": "Zq-5LK5HNOIn",
        "outputId": "37fcb5cf-bff1-445a-cc7f-2561d7323446"
      },
      "execution_count": null,
      "outputs": [
        {
          "output_type": "execute_result",
          "data": {
            "text/plain": [
              "DecisionTreeClassifier(max_depth=190, max_features='sqrt', max_leaf_nodes=9,\n",
              "                       min_samples_split=4)"
            ]
          },
          "metadata": {},
          "execution_count": 38
        }
      ]
    },
    {
      "cell_type": "code",
      "source": [
        "dt_train_accuracy_hyper_params  = DT_Model.score(X_train, y_train)\n",
        "dt_test_accuracy_hyper_params  = DT_Model.score(X_test, y_test)\n",
        "print(f'Train Accuracy - : {dt_train_accuracy_hyper_params:.3f}')\n",
        "print(f'Test Accuracy - : {dt_test_accuracy_hyper_params:.3f}')"
      ],
      "metadata": {
        "colab": {
          "base_uri": "https://localhost:8080/"
        },
        "id": "wu6toNQwNQps",
        "outputId": "25226d92-4e00-45de-ffaf-1d6f8c114374"
      },
      "execution_count": null,
      "outputs": [
        {
          "output_type": "stream",
          "name": "stdout",
          "text": [
            "Train Accuracy - : 0.409\n",
            "Test Accuracy - : 0.409\n"
          ]
        }
      ]
    },
    {
      "cell_type": "markdown",
      "source": [
        "###Changing the max_depth"
      ],
      "metadata": {
        "id": "49GtEfC5fviD"
      }
    },
    {
      "cell_type": "code",
      "source": [
        "train_accuracy = []\n",
        "validation_accuracy  = []\n",
        "for depth in range(1,16):\n",
        "  DT_Model = DT_Model = DecisionTreeClassifier(max_depth=16, max_features='sqrt', max_leaf_nodes=9,\n",
        "                       min_samples_split=4)\n",
        "  DT_Model.fit(X_train,y_train)\n",
        "  train_accuracy.append(DT_Model.score(X_train, y_train))\n",
        "  validation_accuracy.append(DT_Model.score(X_test, y_test))"
      ],
      "metadata": {
        "id": "4VV8LzUffCb3"
      },
      "execution_count": null,
      "outputs": []
    },
    {
      "cell_type": "code",
      "source": [
        "frame = pd.DataFrame({'max_depth':range(1,16),'train_acc':train_accuracy,'valid_acc':validation_accuracy})\n",
        "frame"
      ],
      "metadata": {
        "colab": {
          "base_uri": "https://localhost:8080/",
          "height": 520
        },
        "id": "XaPSksddftnW",
        "outputId": "0b38d712-44fe-407f-fbbf-850e48059274"
      },
      "execution_count": null,
      "outputs": [
        {
          "output_type": "execute_result",
          "data": {
            "text/plain": [
              "    max_depth  train_acc  valid_acc\n",
              "0           1   0.414053   0.407407\n",
              "1           2   0.467153   0.464064\n",
              "2           3   0.404608   0.406206\n",
              "3           4   0.437992   0.442943\n",
              "4           5   0.452585   0.450250\n",
              "5           6   0.463280   0.462763\n",
              "6           7   0.441065   0.441892\n",
              "7           8   0.453085   0.451351\n",
              "8           9   0.474450   0.469570\n",
              "9          10   0.467628   0.463113\n",
              "10         11   0.451536   0.445195\n",
              "11         12   0.452510   0.449049\n",
              "12         13   0.456183   0.455756\n",
              "13         14   0.429771   0.427127\n",
              "14         15   0.446113   0.438238"
            ],
            "text/html": [
              "\n",
              "  <div id=\"df-c8c8d110-a198-43f2-85d2-43f81143ba0c\">\n",
              "    <div class=\"colab-df-container\">\n",
              "      <div>\n",
              "<style scoped>\n",
              "    .dataframe tbody tr th:only-of-type {\n",
              "        vertical-align: middle;\n",
              "    }\n",
              "\n",
              "    .dataframe tbody tr th {\n",
              "        vertical-align: top;\n",
              "    }\n",
              "\n",
              "    .dataframe thead th {\n",
              "        text-align: right;\n",
              "    }\n",
              "</style>\n",
              "<table border=\"1\" class=\"dataframe\">\n",
              "  <thead>\n",
              "    <tr style=\"text-align: right;\">\n",
              "      <th></th>\n",
              "      <th>max_depth</th>\n",
              "      <th>train_acc</th>\n",
              "      <th>valid_acc</th>\n",
              "    </tr>\n",
              "  </thead>\n",
              "  <tbody>\n",
              "    <tr>\n",
              "      <th>0</th>\n",
              "      <td>1</td>\n",
              "      <td>0.414053</td>\n",
              "      <td>0.407407</td>\n",
              "    </tr>\n",
              "    <tr>\n",
              "      <th>1</th>\n",
              "      <td>2</td>\n",
              "      <td>0.467153</td>\n",
              "      <td>0.464064</td>\n",
              "    </tr>\n",
              "    <tr>\n",
              "      <th>2</th>\n",
              "      <td>3</td>\n",
              "      <td>0.404608</td>\n",
              "      <td>0.406206</td>\n",
              "    </tr>\n",
              "    <tr>\n",
              "      <th>3</th>\n",
              "      <td>4</td>\n",
              "      <td>0.437992</td>\n",
              "      <td>0.442943</td>\n",
              "    </tr>\n",
              "    <tr>\n",
              "      <th>4</th>\n",
              "      <td>5</td>\n",
              "      <td>0.452585</td>\n",
              "      <td>0.450250</td>\n",
              "    </tr>\n",
              "    <tr>\n",
              "      <th>5</th>\n",
              "      <td>6</td>\n",
              "      <td>0.463280</td>\n",
              "      <td>0.462763</td>\n",
              "    </tr>\n",
              "    <tr>\n",
              "      <th>6</th>\n",
              "      <td>7</td>\n",
              "      <td>0.441065</td>\n",
              "      <td>0.441892</td>\n",
              "    </tr>\n",
              "    <tr>\n",
              "      <th>7</th>\n",
              "      <td>8</td>\n",
              "      <td>0.453085</td>\n",
              "      <td>0.451351</td>\n",
              "    </tr>\n",
              "    <tr>\n",
              "      <th>8</th>\n",
              "      <td>9</td>\n",
              "      <td>0.474450</td>\n",
              "      <td>0.469570</td>\n",
              "    </tr>\n",
              "    <tr>\n",
              "      <th>9</th>\n",
              "      <td>10</td>\n",
              "      <td>0.467628</td>\n",
              "      <td>0.463113</td>\n",
              "    </tr>\n",
              "    <tr>\n",
              "      <th>10</th>\n",
              "      <td>11</td>\n",
              "      <td>0.451536</td>\n",
              "      <td>0.445195</td>\n",
              "    </tr>\n",
              "    <tr>\n",
              "      <th>11</th>\n",
              "      <td>12</td>\n",
              "      <td>0.452510</td>\n",
              "      <td>0.449049</td>\n",
              "    </tr>\n",
              "    <tr>\n",
              "      <th>12</th>\n",
              "      <td>13</td>\n",
              "      <td>0.456183</td>\n",
              "      <td>0.455756</td>\n",
              "    </tr>\n",
              "    <tr>\n",
              "      <th>13</th>\n",
              "      <td>14</td>\n",
              "      <td>0.429771</td>\n",
              "      <td>0.427127</td>\n",
              "    </tr>\n",
              "    <tr>\n",
              "      <th>14</th>\n",
              "      <td>15</td>\n",
              "      <td>0.446113</td>\n",
              "      <td>0.438238</td>\n",
              "    </tr>\n",
              "  </tbody>\n",
              "</table>\n",
              "</div>\n",
              "      <button class=\"colab-df-convert\" onclick=\"convertToInteractive('df-c8c8d110-a198-43f2-85d2-43f81143ba0c')\"\n",
              "              title=\"Convert this dataframe to an interactive table.\"\n",
              "              style=\"display:none;\">\n",
              "        \n",
              "  <svg xmlns=\"http://www.w3.org/2000/svg\" height=\"24px\"viewBox=\"0 0 24 24\"\n",
              "       width=\"24px\">\n",
              "    <path d=\"M0 0h24v24H0V0z\" fill=\"none\"/>\n",
              "    <path d=\"M18.56 5.44l.94 2.06.94-2.06 2.06-.94-2.06-.94-.94-2.06-.94 2.06-2.06.94zm-11 1L8.5 8.5l.94-2.06 2.06-.94-2.06-.94L8.5 2.5l-.94 2.06-2.06.94zm10 10l.94 2.06.94-2.06 2.06-.94-2.06-.94-.94-2.06-.94 2.06-2.06.94z\"/><path d=\"M17.41 7.96l-1.37-1.37c-.4-.4-.92-.59-1.43-.59-.52 0-1.04.2-1.43.59L10.3 9.45l-7.72 7.72c-.78.78-.78 2.05 0 2.83L4 21.41c.39.39.9.59 1.41.59.51 0 1.02-.2 1.41-.59l7.78-7.78 2.81-2.81c.8-.78.8-2.07 0-2.86zM5.41 20L4 18.59l7.72-7.72 1.47 1.35L5.41 20z\"/>\n",
              "  </svg>\n",
              "      </button>\n",
              "      \n",
              "  <style>\n",
              "    .colab-df-container {\n",
              "      display:flex;\n",
              "      flex-wrap:wrap;\n",
              "      gap: 12px;\n",
              "    }\n",
              "\n",
              "    .colab-df-convert {\n",
              "      background-color: #E8F0FE;\n",
              "      border: none;\n",
              "      border-radius: 50%;\n",
              "      cursor: pointer;\n",
              "      display: none;\n",
              "      fill: #1967D2;\n",
              "      height: 32px;\n",
              "      padding: 0 0 0 0;\n",
              "      width: 32px;\n",
              "    }\n",
              "\n",
              "    .colab-df-convert:hover {\n",
              "      background-color: #E2EBFA;\n",
              "      box-shadow: 0px 1px 2px rgba(60, 64, 67, 0.3), 0px 1px 3px 1px rgba(60, 64, 67, 0.15);\n",
              "      fill: #174EA6;\n",
              "    }\n",
              "\n",
              "    [theme=dark] .colab-df-convert {\n",
              "      background-color: #3B4455;\n",
              "      fill: #D2E3FC;\n",
              "    }\n",
              "\n",
              "    [theme=dark] .colab-df-convert:hover {\n",
              "      background-color: #434B5C;\n",
              "      box-shadow: 0px 1px 3px 1px rgba(0, 0, 0, 0.15);\n",
              "      filter: drop-shadow(0px 1px 2px rgba(0, 0, 0, 0.3));\n",
              "      fill: #FFFFFF;\n",
              "    }\n",
              "  </style>\n",
              "\n",
              "      <script>\n",
              "        const buttonEl =\n",
              "          document.querySelector('#df-c8c8d110-a198-43f2-85d2-43f81143ba0c button.colab-df-convert');\n",
              "        buttonEl.style.display =\n",
              "          google.colab.kernel.accessAllowed ? 'block' : 'none';\n",
              "\n",
              "        async function convertToInteractive(key) {\n",
              "          const element = document.querySelector('#df-c8c8d110-a198-43f2-85d2-43f81143ba0c');\n",
              "          const dataTable =\n",
              "            await google.colab.kernel.invokeFunction('convertToInteractive',\n",
              "                                                     [key], {});\n",
              "          if (!dataTable) return;\n",
              "\n",
              "          const docLinkHtml = 'Like what you see? Visit the ' +\n",
              "            '<a target=\"_blank\" href=https://colab.research.google.com/notebooks/data_table.ipynb>data table notebook</a>'\n",
              "            + ' to learn more about interactive tables.';\n",
              "          element.innerHTML = '';\n",
              "          dataTable['output_type'] = 'display_data';\n",
              "          await google.colab.output.renderOutput(dataTable, element);\n",
              "          const docLink = document.createElement('div');\n",
              "          docLink.innerHTML = docLinkHtml;\n",
              "          element.appendChild(docLink);\n",
              "        }\n",
              "      </script>\n",
              "    </div>\n",
              "  </div>\n",
              "  "
            ]
          },
          "metadata": {},
          "execution_count": 41
        }
      ]
    },
    {
      "cell_type": "code",
      "source": [
        "plt.figure(figsize=(12,6))\n",
        "plt.plot(frame['max_depth'],frame['train_acc'],marker='o',label=('train_acc'))\n",
        "plt.plot(frame['max_depth'],frame['valid_acc'],marker='o',label=('valid_acc'))\n",
        "plt.xlabel('Depth of Tree')\n",
        "plt.ylabel('performance')\n",
        "plt.legend()"
      ],
      "metadata": {
        "colab": {
          "base_uri": "https://localhost:8080/",
          "height": 405
        },
        "id": "Db9xGmWqgV5b",
        "outputId": "7da206a3-2b26-4996-8242-baed35f7e085"
      },
      "execution_count": null,
      "outputs": [
        {
          "output_type": "execute_result",
          "data": {
            "text/plain": [
              "<matplotlib.legend.Legend at 0x7f2997437110>"
            ]
          },
          "metadata": {},
          "execution_count": 42
        },
        {
          "output_type": "display_data",
          "data": {
            "text/plain": [
              "<Figure size 864x432 with 1 Axes>"
            ],
            "image/png": "[encoded data removed]"
          },
          "metadata": {
            "needs_background": "light"
          }
        }
      ]
    },
    {
      "cell_type": "markdown",
      "source": [
        "This is just testing how changing the parameter will change the outcome of the test."
      ],
      "metadata": {
        "id": "vOa_X70Noc8o"
      }
    },
    {
      "cell_type": "markdown",
      "source": [
        "###Evaluation"
      ],
      "metadata": {
        "id": "AeU88nRZonOX"
      }
    },
    {
      "cell_type": "code",
      "source": [
        "test_outcome2 = {'Model':['Decision Tree Default Parameters', 'Decision Tree with Hyperparameters'],\n",
        "                'Train Accuracy': [dt_train_accuracy_default_params ,dt_train_accuracy_hyper_params  ],\n",
        "                'Test Accuracy': [dt_test_accuracy_default_params ,dt_test_accuracy_hyper_params]}"
      ],
      "metadata": {
        "id": "th09qXPColYm"
      },
      "execution_count": null,
      "outputs": []
    },
    {
      "cell_type": "code",
      "source": [
        "pd.DataFrame(test_outcome2)"
      ],
      "metadata": {
        "colab": {
          "base_uri": "https://localhost:8080/",
          "height": 112
        },
        "id": "F1TcD8Bcx3t6",
        "outputId": "f722aaaf-6369-4e0c-8e15-43cd6eeae9ea"
      },
      "execution_count": null,
      "outputs": [
        {
          "output_type": "execute_result",
          "data": {
            "text/plain": [
              "                                Model  Train Accuracy  Test Accuracy\n",
              "0    Decision Tree Default Parameters        1.000000       0.858208\n",
              "1  Decision Tree with Hyperparameters        0.409131       0.408559"
            ],
            "text/html": [
              "\n",
              "  <div id=\"df-95a51ef4-5e76-4496-a400-3190b5c0612a\">\n",
              "    <div class=\"colab-df-container\">\n",
              "      <div>\n",
              "<style scoped>\n",
              "    .dataframe tbody tr th:only-of-type {\n",
              "        vertical-align: middle;\n",
              "    }\n",
              "\n",
              "    .dataframe tbody tr th {\n",
              "        vertical-align: top;\n",
              "    }\n",
              "\n",
              "    .dataframe thead th {\n",
              "        text-align: right;\n",
              "    }\n",
              "</style>\n",
              "<table border=\"1\" class=\"dataframe\">\n",
              "  <thead>\n",
              "    <tr style=\"text-align: right;\">\n",
              "      <th></th>\n",
              "      <th>Model</th>\n",
              "      <th>Train Accuracy</th>\n",
              "      <th>Test Accuracy</th>\n",
              "    </tr>\n",
              "  </thead>\n",
              "  <tbody>\n",
              "    <tr>\n",
              "      <th>0</th>\n",
              "      <td>Decision Tree Default Parameters</td>\n",
              "      <td>1.000000</td>\n",
              "      <td>0.858208</td>\n",
              "    </tr>\n",
              "    <tr>\n",
              "      <th>1</th>\n",
              "      <td>Decision Tree with Hyperparameters</td>\n",
              "      <td>0.409131</td>\n",
              "      <td>0.408559</td>\n",
              "    </tr>\n",
              "  </tbody>\n",
              "</table>\n",
              "</div>\n",
              "      <button class=\"colab-df-convert\" onclick=\"convertToInteractive('df-95a51ef4-5e76-4496-a400-3190b5c0612a')\"\n",
              "              title=\"Convert this dataframe to an interactive table.\"\n",
              "              style=\"display:none;\">\n",
              "        \n",
              "  <svg xmlns=\"http://www.w3.org/2000/svg\" height=\"24px\"viewBox=\"0 0 24 24\"\n",
              "       width=\"24px\">\n",
              "    <path d=\"M0 0h24v24H0V0z\" fill=\"none\"/>\n",
              "    <path d=\"M18.56 5.44l.94 2.06.94-2.06 2.06-.94-2.06-.94-.94-2.06-.94 2.06-2.06.94zm-11 1L8.5 8.5l.94-2.06 2.06-.94-2.06-.94L8.5 2.5l-.94 2.06-2.06.94zm10 10l.94 2.06.94-2.06 2.06-.94-2.06-.94-.94-2.06-.94 2.06-2.06.94z\"/><path d=\"M17.41 7.96l-1.37-1.37c-.4-.4-.92-.59-1.43-.59-.52 0-1.04.2-1.43.59L10.3 9.45l-7.72 7.72c-.78.78-.78 2.05 0 2.83L4 21.41c.39.39.9.59 1.41.59.51 0 1.02-.2 1.41-.59l7.78-7.78 2.81-2.81c.8-.78.8-2.07 0-2.86zM5.41 20L4 18.59l7.72-7.72 1.47 1.35L5.41 20z\"/>\n",
              "  </svg>\n",
              "      </button>\n",
              "      \n",
              "  <style>\n",
              "    .colab-df-container {\n",
              "      display:flex;\n",
              "      flex-wrap:wrap;\n",
              "      gap: 12px;\n",
              "    }\n",
              "\n",
              "    .colab-df-convert {\n",
              "      background-color: #E8F0FE;\n",
              "      border: none;\n",
              "      border-radius: 50%;\n",
              "      cursor: pointer;\n",
              "      display: none;\n",
              "      fill: #1967D2;\n",
              "      height: 32px;\n",
              "      padding: 0 0 0 0;\n",
              "      width: 32px;\n",
              "    }\n",
              "\n",
              "    .colab-df-convert:hover {\n",
              "      background-color: #E2EBFA;\n",
              "      box-shadow: 0px 1px 2px rgba(60, 64, 67, 0.3), 0px 1px 3px 1px rgba(60, 64, 67, 0.15);\n",
              "      fill: #174EA6;\n",
              "    }\n",
              "\n",
              "    [theme=dark] .colab-df-convert {\n",
              "      background-color: #3B4455;\n",
              "      fill: #D2E3FC;\n",
              "    }\n",
              "\n",
              "    [theme=dark] .colab-df-convert:hover {\n",
              "      background-color: #434B5C;\n",
              "      box-shadow: 0px 1px 3px 1px rgba(0, 0, 0, 0.15);\n",
              "      filter: drop-shadow(0px 1px 2px rgba(0, 0, 0, 0.3));\n",
              "      fill: #FFFFFF;\n",
              "    }\n",
              "  </style>\n",
              "\n",
              "      <script>\n",
              "        const buttonEl =\n",
              "          document.querySelector('#df-95a51ef4-5e76-4496-a400-3190b5c0612a button.colab-df-convert');\n",
              "        buttonEl.style.display =\n",
              "          google.colab.kernel.accessAllowed ? 'block' : 'none';\n",
              "\n",
              "        async function convertToInteractive(key) {\n",
              "          const element = document.querySelector('#df-95a51ef4-5e76-4496-a400-3190b5c0612a');\n",
              "          const dataTable =\n",
              "            await google.colab.kernel.invokeFunction('convertToInteractive',\n",
              "                                                     [key], {});\n",
              "          if (!dataTable) return;\n",
              "\n",
              "          const docLinkHtml = 'Like what you see? Visit the ' +\n",
              "            '<a target=\"_blank\" href=https://colab.research.google.com/notebooks/data_table.ipynb>data table notebook</a>'\n",
              "            + ' to learn more about interactive tables.';\n",
              "          element.innerHTML = '';\n",
              "          dataTable['output_type'] = 'display_data';\n",
              "          await google.colab.output.renderOutput(dataTable, element);\n",
              "          const docLink = document.createElement('div');\n",
              "          docLink.innerHTML = docLinkHtml;\n",
              "          element.appendChild(docLink);\n",
              "        }\n",
              "      </script>\n",
              "    </div>\n",
              "  </div>\n",
              "  "
            ]
          },
          "metadata": {},
          "execution_count": 45
        }
      ]
    },
    {
      "cell_type": "markdown",
      "source": [
        "With the default parameter of Decision Tree we are overfitting our training to combat this I used hypertuning to lower the bias but the result wasn't as desirable as I hoped it would be. Fine tuning the parameters again might increase the result but not much,is my guess I believe decision tree isn't a best fit for this type of training."
      ],
      "metadata": {
        "id": "hcrHdouiyWc1"
      }
    },
    {
      "cell_type": "markdown",
      "source": [
        "###K Nearest Neighbors"
      ],
      "metadata": {
        "id": "StCiBXaUzPLu"
      }
    },
    {
      "cell_type": "code",
      "source": [
        "from sklearn.datasets import load_digits\n",
        "%matplotlib inline\n",
        "import matplotlib.pyplot as plt\n",
        "import pandas as pd\n",
        "import numpy as np\n",
        "\n",
        "df_test = pd.read_csv(\"/content/mnist_test.csv\")\n",
        "df_train = pd.read_csv(\"/content/mnist_train.csv\")"
      ],
      "metadata": {
        "id": "iCV2wHomGseu"
      },
      "execution_count": null,
      "outputs": []
    },
    {
      "cell_type": "code",
      "source": [
        "knn_data = df_train.iloc[:,1:]\n",
        "knn_label = df_train.iloc[:,0]"
      ],
      "metadata": {
        "id": "NteXssBhG9yk"
      },
      "execution_count": null,
      "outputs": []
    },
    {
      "cell_type": "code",
      "source": [
        "from sklearn.model_selection import train_test_split\n",
        "X_train, X_test, y_train, y_test = train_test_split(knn_data, knn_label, test_size = 0.333, random_state = 101, stratify = knn_label)"
      ],
      "metadata": {
        "id": "nGiqB-EtG9Rh"
      },
      "execution_count": null,
      "outputs": []
    },
    {
      "cell_type": "code",
      "source": [
        "from sklearn.neighbors import KNeighborsClassifier"
      ],
      "metadata": {
        "id": "gJquq4_cGjpw"
      },
      "execution_count": null,
      "outputs": []
    },
    {
      "cell_type": "code",
      "source": [
        "knn = KNeighborsClassifier()"
      ],
      "metadata": {
        "id": "d2n_1RpBGjQ3"
      },
      "execution_count": null,
      "outputs": []
    },
    {
      "cell_type": "code",
      "source": [
        "knn.fit(X_train,y_train)"
      ],
      "metadata": {
        "colab": {
          "base_uri": "https://localhost:8080/"
        },
        "id": "HrDkP2BAJINH",
        "outputId": "42922389-f2e9-45e7-f903-1c1fbef27a24"
      },
      "execution_count": null,
      "outputs": [
        {
          "output_type": "execute_result",
          "data": {
            "text/plain": [
              "KNeighborsClassifier()"
            ]
          },
          "metadata": {},
          "execution_count": 52
        }
      ]
    },
    {
      "cell_type": "code",
      "source": [
        "knn.score(X_test,y_test)"
      ],
      "metadata": {
        "colab": {
          "base_uri": "https://localhost:8080/"
        },
        "id": "WyK70PieJSNZ",
        "outputId": "57c9f795-9415-4021-ce8a-cdef57a61630"
      },
      "execution_count": null,
      "outputs": [
        {
          "output_type": "execute_result",
          "data": {
            "text/plain": [
              "0.9684184184184185"
            ]
          },
          "metadata": {},
          "execution_count": 53
        }
      ]
    },
    {
      "cell_type": "code",
      "source": [
        "knn_train_accuracy_def_params  = knn.score(X_train, y_train)\n",
        "knn_test_accuracy_def_params  = knn.score(X_test, y_test)"
      ],
      "metadata": {
        "id": "cFEA-tbeJM1a"
      },
      "execution_count": null,
      "outputs": []
    },
    {
      "cell_type": "code",
      "source": [
        "print(f'Train Accuracy - : {knn_train_accuracy_def_params:.3f}')\n",
        "print(f'Test Accuracy - : {knn_test_accuracy_def_params:.3f}')"
      ],
      "metadata": {
        "colab": {
          "base_uri": "https://localhost:8080/"
        },
        "id": "G1qwCGw1Mnpu",
        "outputId": "539d5497-7101-47c7-d489-7835eed39731"
      },
      "execution_count": null,
      "outputs": [
        {
          "output_type": "stream",
          "name": "stdout",
          "text": [
            "Train Accuracy - : 0.979\n",
            "Test Accuracy - : 0.968\n"
          ]
        }
      ]
    },
    {
      "cell_type": "code",
      "source": [
        "from sklearn.metrics import confusion_matrix\n",
        "\n",
        "y_pred = knn.predict(X_test)\n",
        "cm = confusion_matrix(y_test, y_pred)\n",
        "cm"
      ],
      "metadata": {
        "colab": {
          "base_uri": "https://localhost:8080/"
        },
        "id": "LsCZ5ucpJemf",
        "outputId": "9ecb6a4b-ce16-44c0-9cbc-60de1f273c9e"
      },
      "execution_count": null,
      "outputs": [
        {
          "output_type": "execute_result",
          "data": {
            "text/plain": [
              "array([[1960,    1,    0,    0,    1,    1,    8,    0,    0,    1],\n",
              "       [   0, 2238,    4,    1,    0,    0,    0,    1,    0,    1],\n",
              "       [   8,   21, 1901,    6,    5,    4,    6,   27,    3,    3],\n",
              "       [   4,    5,   14, 1958,    1,   26,    0,   10,   12,   12],\n",
              "       [   2,   22,    1,    1, 1877,    0,    4,    2,    1,   36],\n",
              "       [   8,    4,    1,   20,    5, 1732,   20,    3,    3,    9],\n",
              "       [  10,    3,    0,    1,    4,    8, 1944,    0,    1,    0],\n",
              "       [   0,   18,    4,    1,    5,    0,    0, 2033,    1,   24],\n",
              "       [   5,   29,    5,   22,   13,   27,   10,    7, 1805,   25],\n",
              "       [   3,    4,    1,   20,   17,    3,    0,   31,    1, 1901]])"
            ]
          },
          "metadata": {},
          "execution_count": 56
        }
      ]
    },
    {
      "cell_type": "code",
      "source": [
        "import seaborn as sn\n",
        "\n",
        "plt.figure(figsize=(15,10))\n",
        "sn.heatmap(cm,annot=True)\n",
        "plt.xlabel(\"Predicted\")\n",
        "plt.ylabel(\"Truth\")"
      ],
      "metadata": {
        "colab": {
          "base_uri": "https://localhost:8080/",
          "height": 623
        },
        "id": "RcQ6odfPJufd",
        "outputId": "1b591de5-db8c-47f3-9c29-ac6d5f26f4e0"
      },
      "execution_count": null,
      "outputs": [
        {
          "output_type": "execute_result",
          "data": {
            "text/plain": [
              "Text(114.0, 0.5, 'Truth')"
            ]
          },
          "metadata": {},
          "execution_count": 57
        },
        {
          "output_type": "display_data",
          "data": {
            "text/plain": [
              "<Figure size 1080x720 with 2 Axes>"
            ],
            "image/png": "[encoded data removed]"
          },
          "metadata": {
            "needs_background": "light"
          }
        }
      ]
    },
    {
      "cell_type": "code",
      "source": [
        "from sklearn.metrics import classification_report"
      ],
      "metadata": {
        "id": "Y8ZtLyqKKgMU"
      },
      "execution_count": null,
      "outputs": []
    },
    {
      "cell_type": "code",
      "source": [
        "print(classification_report(y_test,y_pred))"
      ],
      "metadata": {
        "colab": {
          "base_uri": "https://localhost:8080/"
        },
        "id": "2zg-Q9ebKkoM",
        "outputId": "76ea411f-a64b-49cf-b72f-20b9b8c33497"
      },
      "execution_count": null,
      "outputs": [
        {
          "output_type": "stream",
          "name": "stdout",
          "text": [
            "              precision    recall  f1-score   support\n",
            "\n",
            "           0       0.98      0.99      0.99      1972\n",
            "           1       0.95      1.00      0.98      2245\n",
            "           2       0.98      0.96      0.97      1984\n",
            "           3       0.96      0.96      0.96      2042\n",
            "           4       0.97      0.96      0.97      1946\n",
            "           5       0.96      0.96      0.96      1805\n",
            "           6       0.98      0.99      0.98      1971\n",
            "           7       0.96      0.97      0.97      2086\n",
            "           8       0.99      0.93      0.96      1948\n",
            "           9       0.94      0.96      0.95      1981\n",
            "\n",
            "    accuracy                           0.97     19980\n",
            "   macro avg       0.97      0.97      0.97     19980\n",
            "weighted avg       0.97      0.97      0.97     19980\n",
            "\n"
          ]
        }
      ]
    },
    {
      "cell_type": "markdown",
      "source": [
        "###Evaluation\n",
        "\n",
        "Using the default parameters for K Nearest Neighbor we also see a good turn out just like the random forest. We can see that we are getting a high accuracy score."
      ],
      "metadata": {
        "id": "gxKFzpT1KJ3T"
      }
    },
    {
      "cell_type": "markdown",
      "source": [
        "###K Nearest Neighbors Hyperparameter Tuning\n"
      ],
      "metadata": {
        "id": "-6NcLGRUKOjh"
      }
    },
    {
      "cell_type": "code",
      "source": [
        "train_accuracy = []\n",
        "validation_accuracy  = []\n",
        "for n in range(1,16):\n",
        "  knn_Model = KNeighborsClassifier(n_neighbors=n)\n",
        "  knn_Model.fit(X_train,y_train)\n",
        "  train_accuracy.append(knn_Model.score(X_train, y_train))\n",
        "  validation_accuracy.append(knn_Model.score(X_test, y_test))"
      ],
      "metadata": {
        "id": "xTgc0uWKNCCp"
      },
      "execution_count": null,
      "outputs": []
    },
    {
      "cell_type": "code",
      "source": [
        "frame = pd.DataFrame({'max_depth':range(1,16),'train_acc':train_accuracy,'valid_acc':validation_accuracy})\n",
        "frame"
      ],
      "metadata": {
        "colab": {
          "base_uri": "https://localhost:8080/",
          "height": 520
        },
        "id": "M1P6viGcNESm",
        "outputId": "1d613ef4-278d-4bad-c6e4-ae17e73236c3"
      },
      "execution_count": null,
      "outputs": [
        {
          "output_type": "execute_result",
          "data": {
            "text/plain": [
              "    max_depth  train_acc  valid_acc\n",
              "0           1   1.000000   0.969670\n",
              "1           2   0.983658   0.962613\n",
              "2           3   0.984158   0.968869\n",
              "3           4   0.980109   0.967417\n",
              "4           5   0.978660   0.968418\n",
              "5           6   0.976461   0.966366\n",
              "6           7   0.974887   0.965866\n",
              "7           8   0.973263   0.964364\n",
              "8           9   0.972663   0.964464\n",
              "9          10   0.970914   0.963063\n",
              "10         11   0.969839   0.962813\n",
              "11         12   0.968965   0.961562\n",
              "12         13   0.968090   0.960661\n",
              "13         14   0.967815   0.959910\n",
              "14         15   0.967041   0.959359"
            ],
            "text/html": [
              "\n",
              "  <div id=\"df-7438e527-cb7e-48d4-afc9-a26a07e2fc88\">\n",
              "    <div class=\"colab-df-container\">\n",
              "      <div>\n",
              "<style scoped>\n",
              "    .dataframe tbody tr th:only-of-type {\n",
              "        vertical-align: middle;\n",
              "    }\n",
              "\n",
              "    .dataframe tbody tr th {\n",
              "        vertical-align: top;\n",
              "    }\n",
              "\n",
              "    .dataframe thead th {\n",
              "        text-align: right;\n",
              "    }\n",
              "</style>\n",
              "<table border=\"1\" class=\"dataframe\">\n",
              "  <thead>\n",
              "    <tr style=\"text-align: right;\">\n",
              "      <th></th>\n",
              "      <th>max_depth</th>\n",
              "      <th>train_acc</th>\n",
              "      <th>valid_acc</th>\n",
              "    </tr>\n",
              "  </thead>\n",
              "  <tbody>\n",
              "    <tr>\n",
              "      <th>0</th>\n",
              "      <td>1</td>\n",
              "      <td>1.000000</td>\n",
              "      <td>0.969670</td>\n",
              "    </tr>\n",
              "    <tr>\n",
              "      <th>1</th>\n",
              "      <td>2</td>\n",
              "      <td>0.983658</td>\n",
              "      <td>0.962613</td>\n",
              "    </tr>\n",
              "    <tr>\n",
              "      <th>2</th>\n",
              "      <td>3</td>\n",
              "      <td>0.984158</td>\n",
              "      <td>0.968869</td>\n",
              "    </tr>\n",
              "    <tr>\n",
              "      <th>3</th>\n",
              "      <td>4</td>\n",
              "      <td>0.980109</td>\n",
              "      <td>0.967417</td>\n",
              "    </tr>\n",
              "    <tr>\n",
              "      <th>4</th>\n",
              "      <td>5</td>\n",
              "      <td>0.978660</td>\n",
              "      <td>0.968418</td>\n",
              "    </tr>\n",
              "    <tr>\n",
              "      <th>5</th>\n",
              "      <td>6</td>\n",
              "      <td>0.976461</td>\n",
              "      <td>0.966366</td>\n",
              "    </tr>\n",
              "    <tr>\n",
              "      <th>6</th>\n",
              "      <td>7</td>\n",
              "      <td>0.974887</td>\n",
              "      <td>0.965866</td>\n",
              "    </tr>\n",
              "    <tr>\n",
              "      <th>7</th>\n",
              "      <td>8</td>\n",
              "      <td>0.973263</td>\n",
              "      <td>0.964364</td>\n",
              "    </tr>\n",
              "    <tr>\n",
              "      <th>8</th>\n",
              "      <td>9</td>\n",
              "      <td>0.972663</td>\n",
              "      <td>0.964464</td>\n",
              "    </tr>\n",
              "    <tr>\n",
              "      <th>9</th>\n",
              "      <td>10</td>\n",
              "      <td>0.970914</td>\n",
              "      <td>0.963063</td>\n",
              "    </tr>\n",
              "    <tr>\n",
              "      <th>10</th>\n",
              "      <td>11</td>\n",
              "      <td>0.969839</td>\n",
              "      <td>0.962813</td>\n",
              "    </tr>\n",
              "    <tr>\n",
              "      <th>11</th>\n",
              "      <td>12</td>\n",
              "      <td>0.968965</td>\n",
              "      <td>0.961562</td>\n",
              "    </tr>\n",
              "    <tr>\n",
              "      <th>12</th>\n",
              "      <td>13</td>\n",
              "      <td>0.968090</td>\n",
              "      <td>0.960661</td>\n",
              "    </tr>\n",
              "    <tr>\n",
              "      <th>13</th>\n",
              "      <td>14</td>\n",
              "      <td>0.967815</td>\n",
              "      <td>0.959910</td>\n",
              "    </tr>\n",
              "    <tr>\n",
              "      <th>14</th>\n",
              "      <td>15</td>\n",
              "      <td>0.967041</td>\n",
              "      <td>0.959359</td>\n",
              "    </tr>\n",
              "  </tbody>\n",
              "</table>\n",
              "</div>\n",
              "      <button class=\"colab-df-convert\" onclick=\"convertToInteractive('df-7438e527-cb7e-48d4-afc9-a26a07e2fc88')\"\n",
              "              title=\"Convert this dataframe to an interactive table.\"\n",
              "              style=\"display:none;\">\n",
              "        \n",
              "  <svg xmlns=\"http://www.w3.org/2000/svg\" height=\"24px\"viewBox=\"0 0 24 24\"\n",
              "       width=\"24px\">\n",
              "    <path d=\"M0 0h24v24H0V0z\" fill=\"none\"/>\n",
              "    <path d=\"M18.56 5.44l.94 2.06.94-2.06 2.06-.94-2.06-.94-.94-2.06-.94 2.06-2.06.94zm-11 1L8.5 8.5l.94-2.06 2.06-.94-2.06-.94L8.5 2.5l-.94 2.06-2.06.94zm10 10l.94 2.06.94-2.06 2.06-.94-2.06-.94-.94-2.06-.94 2.06-2.06.94z\"/><path d=\"M17.41 7.96l-1.37-1.37c-.4-.4-.92-.59-1.43-.59-.52 0-1.04.2-1.43.59L10.3 9.45l-7.72 7.72c-.78.78-.78 2.05 0 2.83L4 21.41c.39.39.9.59 1.41.59.51 0 1.02-.2 1.41-.59l7.78-7.78 2.81-2.81c.8-.78.8-2.07 0-2.86zM5.41 20L4 18.59l7.72-7.72 1.47 1.35L5.41 20z\"/>\n",
              "  </svg>\n",
              "      </button>\n",
              "      \n",
              "  <style>\n",
              "    .colab-df-container {\n",
              "      display:flex;\n",
              "      flex-wrap:wrap;\n",
              "      gap: 12px;\n",
              "    }\n",
              "\n",
              "    .colab-df-convert {\n",
              "      background-color: #E8F0FE;\n",
              "      border: none;\n",
              "      border-radius: 50%;\n",
              "      cursor: pointer;\n",
              "      display: none;\n",
              "      fill: #1967D2;\n",
              "      height: 32px;\n",
              "      padding: 0 0 0 0;\n",
              "      width: 32px;\n",
              "    }\n",
              "\n",
              "    .colab-df-convert:hover {\n",
              "      background-color: #E2EBFA;\n",
              "      box-shadow: 0px 1px 2px rgba(60, 64, 67, 0.3), 0px 1px 3px 1px rgba(60, 64, 67, 0.15);\n",
              "      fill: #174EA6;\n",
              "    }\n",
              "\n",
              "    [theme=dark] .colab-df-convert {\n",
              "      background-color: #3B4455;\n",
              "      fill: #D2E3FC;\n",
              "    }\n",
              "\n",
              "    [theme=dark] .colab-df-convert:hover {\n",
              "      background-color: #434B5C;\n",
              "      box-shadow: 0px 1px 3px 1px rgba(0, 0, 0, 0.15);\n",
              "      filter: drop-shadow(0px 1px 2px rgba(0, 0, 0, 0.3));\n",
              "      fill: #FFFFFF;\n",
              "    }\n",
              "  </style>\n",
              "\n",
              "      <script>\n",
              "        const buttonEl =\n",
              "          document.querySelector('#df-7438e527-cb7e-48d4-afc9-a26a07e2fc88 button.colab-df-convert');\n",
              "        buttonEl.style.display =\n",
              "          google.colab.kernel.accessAllowed ? 'block' : 'none';\n",
              "\n",
              "        async function convertToInteractive(key) {\n",
              "          const element = document.querySelector('#df-7438e527-cb7e-48d4-afc9-a26a07e2fc88');\n",
              "          const dataTable =\n",
              "            await google.colab.kernel.invokeFunction('convertToInteractive',\n",
              "                                                     [key], {});\n",
              "          if (!dataTable) return;\n",
              "\n",
              "          const docLinkHtml = 'Like what you see? Visit the ' +\n",
              "            '<a target=\"_blank\" href=https://colab.research.google.com/notebooks/data_table.ipynb>data table notebook</a>'\n",
              "            + ' to learn more about interactive tables.';\n",
              "          element.innerHTML = '';\n",
              "          dataTable['output_type'] = 'display_data';\n",
              "          await google.colab.output.renderOutput(dataTable, element);\n",
              "          const docLink = document.createElement('div');\n",
              "          docLink.innerHTML = docLinkHtml;\n",
              "          element.appendChild(docLink);\n",
              "        }\n",
              "      </script>\n",
              "    </div>\n",
              "  </div>\n",
              "  "
            ]
          },
          "metadata": {},
          "execution_count": 65
        }
      ]
    },
    {
      "cell_type": "code",
      "source": [
        "plt.figure(figsize=(12,6))\n",
        "plt.plot(frame['max_depth'],frame['train_acc'],marker='o',label=('train_acc'))\n",
        "plt.plot(frame['max_depth'],frame['valid_acc'],marker='o',label=('valid_acc'))\n",
        "plt.xlabel('Depth of Tree')\n",
        "plt.ylabel('performance')\n",
        "plt.legend()"
      ],
      "metadata": {
        "colab": {
          "base_uri": "https://localhost:8080/",
          "height": 405
        },
        "id": "F3hYZdPYNFbE",
        "outputId": "0948f49b-f7d7-471a-a376-d3cf2d92fbc0"
      },
      "execution_count": null,
      "outputs": [
        {
          "output_type": "execute_result",
          "data": {
            "text/plain": [
              "<matplotlib.legend.Legend at 0x7f2997515990>"
            ]
          },
          "metadata": {},
          "execution_count": 66
        },
        {
          "output_type": "display_data",
          "data": {
            "text/plain": [
              "<Figure size 864x432 with 1 Axes>"
            ],
            "image/png": "[encoded data removed]"
          },
          "metadata": {
            "needs_background": "light"
          }
        }
      ]
    },
    {
      "cell_type": "markdown",
      "source": [
        "###Evaluation\n",
        "\n",
        "In this test we check how changing the n_neighbors will drastically change the model. We got the highest test score by having the n_neighbors to 1"
      ],
      "metadata": {
        "id": "zalSKbs5ZKQ6"
      }
    },
    {
      "cell_type": "code",
      "source": [
        "knn_train_accuracy_hyper_params = train_accuracy[0]\n",
        "knn_test_accuracy_hyper_params = validation_accuracy[0]\n",
        "\n",
        "knn_train_accuracy_def_params  = knn.score(X_train, y_train)\n",
        "knn_test_accuracy_def_params  = knn.score(X_test, y_test)"
      ],
      "metadata": {
        "id": "Vko9ICanZpP2"
      },
      "execution_count": null,
      "outputs": []
    },
    {
      "cell_type": "markdown",
      "source": [
        "###Conclusion"
      ],
      "metadata": {
        "id": "zS1ZH-hcHAep"
      }
    },
    {
      "cell_type": "code",
      "source": [
        "final_outcome = {'Model':['Default Parameters', 'Hyperparameter Tuning'],\n",
        "                'Decision Tree Train Accuracy': [dt_train_accuracy_default_params ,dt_train_accuracy_hyper_params  ],\n",
        "                'Decision Tree Test Accuracy': [dt_test_accuracy_default_params ,dt_test_accuracy_hyper_params],\n",
        "                'Random Forest Train Accuracy': [train_accuracy_default_params,train_accuracy_hyper_params],\n",
        "                'Random Forest Test Accuracy': [test_accuracy_default_params,test_accuracy_hyper_params],\n",
        "                'K Nearest Neighbors Train Accuracy': [knn_train_accuracy_def_params,knn_train_accuracy_hyper_params],\n",
        "                'K Nearest Neighbors Test Accuracy': [knn_test_accuracy_def_params,knn_test_accuracy_hyper_params]}   "
      ],
      "metadata": {
        "id": "IdEZ3JxIF8yB"
      },
      "execution_count": null,
      "outputs": []
    },
    {
      "cell_type": "code",
      "source": [
        "table = pd.DataFrame(final_outcome)\n",
        "table.T"
      ],
      "metadata": {
        "colab": {
          "base_uri": "https://localhost:8080/",
          "height": 269
        },
        "id": "i1wS72SAbo1h",
        "outputId": "871af6d1-9444-4988-bf82-10bf1e3dee9f"
      },
      "execution_count": null,
      "outputs": [
        {
          "output_type": "execute_result",
          "data": {
            "text/plain": [
              "                                                     0                      1\n",
              "Model                               Default Parameters  Hyperparameter Tuning\n",
              "Decision Tree Train Accuracy                       1.0               0.409131\n",
              "Decision Tree Test Accuracy                   0.858208               0.408559\n",
              "Random Forest Train Accuracy                       1.0               0.999925\n",
              "Random Forest Test Accuracy                   0.985536               0.985385\n",
              "K Nearest Neighbors Train Accuracy             0.97866                    1.0\n",
              "K Nearest Neighbors Test Accuracy             0.968418                0.96967"
            ],
            "text/html": [
              "\n",
              "  <div id=\"df-2b390afb-dd3f-482d-83ed-6b1e85e37988\">\n",
              "    <div class=\"colab-df-container\">\n",
              "      <div>\n",
              "<style scoped>\n",
              "    .dataframe tbody tr th:only-of-type {\n",
              "        vertical-align: middle;\n",
              "    }\n",
              "\n",
              "    .dataframe tbody tr th {\n",
              "        vertical-align: top;\n",
              "    }\n",
              "\n",
              "    .dataframe thead th {\n",
              "        text-align: right;\n",
              "    }\n",
              "</style>\n",
              "<table border=\"1\" class=\"dataframe\">\n",
              "  <thead>\n",
              "    <tr style=\"text-align: right;\">\n",
              "      <th></th>\n",
              "      <th>0</th>\n",
              "      <th>1</th>\n",
              "    </tr>\n",
              "  </thead>\n",
              "  <tbody>\n",
              "    <tr>\n",
              "      <th>Model</th>\n",
              "      <td>Default Parameters</td>\n",
              "      <td>Hyperparameter Tuning</td>\n",
              "    </tr>\n",
              "    <tr>\n",
              "      <th>Decision Tree Train Accuracy</th>\n",
              "      <td>1.0</td>\n",
              "      <td>0.409131</td>\n",
              "    </tr>\n",
              "    <tr>\n",
              "      <th>Decision Tree Test Accuracy</th>\n",
              "      <td>0.858208</td>\n",
              "      <td>0.408559</td>\n",
              "    </tr>\n",
              "    <tr>\n",
              "      <th>Random Forest Train Accuracy</th>\n",
              "      <td>1.0</td>\n",
              "      <td>0.999925</td>\n",
              "    </tr>\n",
              "    <tr>\n",
              "      <th>Random Forest Test Accuracy</th>\n",
              "      <td>0.985536</td>\n",
              "      <td>0.985385</td>\n",
              "    </tr>\n",
              "    <tr>\n",
              "      <th>K Nearest Neighbors Train Accuracy</th>\n",
              "      <td>0.97866</td>\n",
              "      <td>1.0</td>\n",
              "    </tr>\n",
              "    <tr>\n",
              "      <th>K Nearest Neighbors Test Accuracy</th>\n",
              "      <td>0.968418</td>\n",
              "      <td>0.96967</td>\n",
              "    </tr>\n",
              "  </tbody>\n",
              "</table>\n",
              "</div>\n",
              "      <button class=\"colab-df-convert\" onclick=\"convertToInteractive('df-2b390afb-dd3f-482d-83ed-6b1e85e37988')\"\n",
              "              title=\"Convert this dataframe to an interactive table.\"\n",
              "              style=\"display:none;\">\n",
              "        \n",
              "  <svg xmlns=\"http://www.w3.org/2000/svg\" height=\"24px\"viewBox=\"0 0 24 24\"\n",
              "       width=\"24px\">\n",
              "    <path d=\"M0 0h24v24H0V0z\" fill=\"none\"/>\n",
              "    <path d=\"M18.56 5.44l.94 2.06.94-2.06 2.06-.94-2.06-.94-.94-2.06-.94 2.06-2.06.94zm-11 1L8.5 8.5l.94-2.06 2.06-.94-2.06-.94L8.5 2.5l-.94 2.06-2.06.94zm10 10l.94 2.06.94-2.06 2.06-.94-2.06-.94-.94-2.06-.94 2.06-2.06.94z\"/><path d=\"M17.41 7.96l-1.37-1.37c-.4-.4-.92-.59-1.43-.59-.52 0-1.04.2-1.43.59L10.3 9.45l-7.72 7.72c-.78.78-.78 2.05 0 2.83L4 21.41c.39.39.9.59 1.41.59.51 0 1.02-.2 1.41-.59l7.78-7.78 2.81-2.81c.8-.78.8-2.07 0-2.86zM5.41 20L4 18.59l7.72-7.72 1.47 1.35L5.41 20z\"/>\n",
              "  </svg>\n",
              "      </button>\n",
              "      \n",
              "  <style>\n",
              "    .colab-df-container {\n",
              "      display:flex;\n",
              "      flex-wrap:wrap;\n",
              "      gap: 12px;\n",
              "    }\n",
              "\n",
              "    .colab-df-convert {\n",
              "      background-color: #E8F0FE;\n",
              "      border: none;\n",
              "      border-radius: 50%;\n",
              "      cursor: pointer;\n",
              "      display: none;\n",
              "      fill: #1967D2;\n",
              "      height: 32px;\n",
              "      padding: 0 0 0 0;\n",
              "      width: 32px;\n",
              "    }\n",
              "\n",
              "    .colab-df-convert:hover {\n",
              "      background-color: #E2EBFA;\n",
              "      box-shadow: 0px 1px 2px rgba(60, 64, 67, 0.3), 0px 1px 3px 1px rgba(60, 64, 67, 0.15);\n",
              "      fill: #174EA6;\n",
              "    }\n",
              "\n",
              "    [theme=dark] .colab-df-convert {\n",
              "      background-color: #3B4455;\n",
              "      fill: #D2E3FC;\n",
              "    }\n",
              "\n",
              "    [theme=dark] .colab-df-convert:hover {\n",
              "      background-color: #434B5C;\n",
              "      box-shadow: 0px 1px 3px 1px rgba(0, 0, 0, 0.15);\n",
              "      filter: drop-shadow(0px 1px 2px rgba(0, 0, 0, 0.3));\n",
              "      fill: #FFFFFF;\n",
              "    }\n",
              "  </style>\n",
              "\n",
              "      <script>\n",
              "        const buttonEl =\n",
              "          document.querySelector('#df-2b390afb-dd3f-482d-83ed-6b1e85e37988 button.colab-df-convert');\n",
              "        buttonEl.style.display =\n",
              "          google.colab.kernel.accessAllowed ? 'block' : 'none';\n",
              "\n",
              "        async function convertToInteractive(key) {\n",
              "          const element = document.querySelector('#df-2b390afb-dd3f-482d-83ed-6b1e85e37988');\n",
              "          const dataTable =\n",
              "            await google.colab.kernel.invokeFunction('convertToInteractive',\n",
              "                                                     [key], {});\n",
              "          if (!dataTable) return;\n",
              "\n",
              "          const docLinkHtml = 'Like what you see? Visit the ' +\n",
              "            '<a target=\"_blank\" href=https://colab.research.google.com/notebooks/data_table.ipynb>data table notebook</a>'\n",
              "            + ' to learn more about interactive tables.';\n",
              "          element.innerHTML = '';\n",
              "          dataTable['output_type'] = 'display_data';\n",
              "          await google.colab.output.renderOutput(dataTable, element);\n",
              "          const docLink = document.createElement('div');\n",
              "          docLink.innerHTML = docLinkHtml;\n",
              "          element.appendChild(docLink);\n",
              "        }\n",
              "      </script>\n",
              "    </div>\n",
              "  </div>\n",
              "  "
            ]
          },
          "metadata": {},
          "execution_count": 107
        }
      ]
    },
    {
      "cell_type": "markdown",
      "source": [
        "With all the three model tested Random Forest comes at the top. With just the default parameters it had the highest accuracy compared to other models. For this brief testing Random Forest is the best choice."
      ],
      "metadata": {
        "id": "_vw24Zuyc1ts"
      }
    }
  ]
}